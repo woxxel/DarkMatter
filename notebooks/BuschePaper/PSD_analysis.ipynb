{
 "cells": [
  {
   "cell_type": "markdown",
   "id": "36525601",
   "metadata": {},
   "source": [
    "# PSD analysis figures\n",
    "* something is off about \"network\" definition and according distribution plots -> fix\n",
    "* distribution plots don't really have to be in here (or rather move all figures to a single notebook?!)"
   ]
  },
  {
   "cell_type": "code",
   "execution_count": 1,
   "id": "28999e34",
   "metadata": {},
   "outputs": [],
   "source": [
    "%load_ext autoreload\n",
    "%autoreload 2\n",
    "import os, sys\n",
    "from pathlib import Path\n",
    "# root_dir = Path().parent\n",
    "# root_dir = os.path.dirname(os.path.abspath(''))\n",
    "\n",
    "root_dir = Path.cwd().parents[1]\n",
    "if not root_dir in sys.path: sys.path.insert(0,str(root_dir))\n",
    "\n",
    "# print(root_dir)\n",
    "# if not root_dir in sys.path:\n",
    "#     sys.path.insert(0, str(root_\n",
    "# root_dir = Path.cwd().parent\n",
    "# print(root_dir)\n",
    "# if not root_dir in sys.path:\n",
    "#     sys.path.insert(0, str(root_dir))\n"
   ]
  },
  {
   "cell_type": "code",
   "execution_count": 2,
   "id": "42a60387",
   "metadata": {},
   "outputs": [],
   "source": [
    "import numpy as np\n",
    "from matplotlib import pyplot as plt\n",
    "from darkMatter import *\n",
    "\n",
    "# from general.plot_statistics import *\n",
    "# from general.utils import set_plot_params\n",
    "\n",
    "from DM_theory.network import network"
   ]
  },
  {
   "cell_type": "code",
   "execution_count": null,
   "id": "ae78cf29",
   "metadata": {},
   "outputs": [
    {
     "name": "stdout",
     "output_type": "stream",
     "text": [
      "/home/wollex/Documents/Science/WolfGroup/DarkMatter/Programme\n"
     ]
    }
   ],
   "source": []
  },
  {
   "cell_type": "code",
   "execution_count": 3,
   "id": "f7470fcf",
   "metadata": {},
   "outputs": [],
   "source": [
    "steps = 100  # correct for removal of first item\n",
    "\n",
    "L = 1\n",
    "S = [1, 2]\n",
    "\n",
    "J_l = np.ones((L, L))\n",
    "np.fill_diagonal(J_l, 0)\n",
    "\n",
    "options = {\n",
    "    # count of layers, populations, PSPs\n",
    "    \"L\": L,\n",
    "    \"P\": 2,\n",
    "    \"S\": S,  # contains number of synapses for each population\n",
    "    # layer level parameters\n",
    "    \"eps\": 1.0 / np.sqrt(2),\n",
    "    \"eta\": 0.9,\n",
    "    \"J0_l\": J_l,\n",
    "    \"kappa\": 1.0,\n",
    "    # population level parameters\n",
    "    \"I_ext\": -1,\n",
    "    \"rateWnt\": 1.0,\n",
    "    \"alpha_0\": 0.02,\n",
    "    \"tau_M\": 0.01,\n",
    "    \"J0\": 1.0,\n",
    "    # psp level parameters\n",
    "    \"tau_I\": [0.01, 0.005, 0.2],\n",
    "    \"tau_n\": 0.0,\n",
    "    \"tau_norm\": 1.0,\n",
    "    # 'order': ['tau_G','n','alpha_0','rateWnt','eta','eps'],\n",
    "    \"mode\": 0,\n",
    "    \"mode_stats\": 0,\n",
    "    \"mode_calc\": 0,\n",
    "    \"simulation\": {\n",
    "        # for each iteration parameter, specify (layer,population,psp)-tuple\n",
    "        # specify -1 if a level of hierarchy is non-applicable\n",
    "        # specify 'None' if should be applied to all candidates\n",
    "        \"rateWnt\": [0.0, 20.0],\n",
    "        \"tau_n\": [0.0, 1.0],\n",
    "        \"sim_prim\": [\n",
    "            0,\n",
    "            -1,\n",
    "            0,\n",
    "        ],  # when population parameters are iterated, specify population number(s) (empty = all)\n",
    "        \"sim_sec\": [\n",
    "            0,\n",
    "            1,\n",
    "            1,\n",
    "        ],  # when synaptic timeconstants are iterated, specify number within population\n",
    "    },\n",
    "}"
   ]
  },
  {
   "cell_type": "code",
   "execution_count": 4,
   "id": "7a1e88ea",
   "metadata": {},
   "outputs": [
    {
     "name": "stdout",
     "output_type": "stream",
     "text": [
      "DM suffix: \n",
      "rateWnt [0.0, 20.0] <class 'list'>\n",
      "tau_n [0.0, 1.0] <class 'list'>\n",
      "sim_prim [0, -1, 0] <class 'list'>\n",
      "sim_sec [0, 1, 1] <class 'list'>\n"
     ]
    }
   ],
   "source": [
    "res = darkMatter(steps=steps, options=options, rerun=True, compile=False)"
   ]
  },
  {
   "cell_type": "code",
   "execution_count": 5,
   "id": "48ea2994",
   "metadata": {},
   "outputs": [
    {
     "data": {
      "text/plain": [
       "dict_keys(['rateWnt', 'tau_n', 'q', 'gamma', 'delta', 'rate_max', 'chi', 'I_balance', 'regions', 'implausible', 'inc_trans', 'imp_trans', 'DM_trans', 'np_trans'])"
      ]
     },
     "execution_count": 5,
     "metadata": {},
     "output_type": "execute_result"
    }
   ],
   "source": [
    "res.keys()"
   ]
  },
  {
   "cell_type": "code",
   "execution_count": 6,
   "id": "acc31e3e",
   "metadata": {},
   "outputs": [],
   "source": [
    "order = list(options[\"simulation\"].keys())"
   ]
  },
  {
   "cell_type": "code",
   "execution_count": 7,
   "id": "14344c99",
   "metadata": {},
   "outputs": [],
   "source": [
    "net = network(**options)"
   ]
  },
  {
   "cell_type": "code",
   "execution_count": 8,
   "id": "973b3111",
   "metadata": {},
   "outputs": [
    {
     "data": {
      "text/plain": [
       "array([0.04212868])"
      ]
     },
     "execution_count": 8,
     "metadata": {},
     "output_type": "execute_result"
    }
   ],
   "source": [
    "net.sigma_V(nu=np.array([[1.0], [1.0]]), p=0)"
   ]
  },
  {
   "cell_type": "code",
   "execution_count": 9,
   "id": "d4adf822",
   "metadata": {},
   "outputs": [
    {
     "data": {
      "text/plain": [
       "array([1.77231862])"
      ]
     },
     "execution_count": 9,
     "metadata": {},
     "output_type": "execute_result"
    }
   ],
   "source": [
    "net.r = 0.9\n",
    "net.gamma(nu=np.array([[1.0], [1.0]]), q=np.array([[1.1], [1.1]]), p=1)"
   ]
  },
  {
   "cell_type": "code",
   "execution_count": 10,
   "id": "fe3f8d25",
   "metadata": {},
   "outputs": [
    {
     "data": {
      "text/plain": [
       "masked_array(\n",
       "  data=[[[  4.49470005,   8.82720639,  13.26016542, ..., 535.14795489,\n",
       "          540.9605098 , 546.77669511],\n",
       "         [  4.66344218,   9.18526576,  13.80461403, ..., 545.88883136,\n",
       "          551.78638241, 557.68709762],\n",
       "         [  4.84973231,   9.57774712,  14.3997808 , ..., 558.27234829,\n",
       "          564.27154956, 570.27368795],\n",
       "         ...,\n",
       "         [         nan,          nan,          nan, ...,          nan,\n",
       "                   nan,          nan],\n",
       "         [         nan,          nan,          nan, ...,          nan,\n",
       "                   nan,          nan],\n",
       "         [         nan,          nan,          nan, ...,          nan,\n",
       "                   nan,          nan]],\n",
       "\n",
       "        [[  4.49470003,   8.82720639,  13.26016542, ..., 535.14795489,\n",
       "          540.9605098 , 546.77669511],\n",
       "         [  4.66344218,   9.18526576,  13.80461403, ..., 545.88883136,\n",
       "          551.78638241, 557.68709762],\n",
       "         [  4.84973232,   9.57774712,  14.3997808 , ..., 558.27234829,\n",
       "          564.27154956, 570.27368795],\n",
       "         ...,\n",
       "         [         nan,          nan,          nan, ...,          nan,\n",
       "                   nan,          nan],\n",
       "         [         nan,          nan,          nan, ...,          nan,\n",
       "                   nan,          nan],\n",
       "         [         nan,          nan,          nan, ...,          nan,\n",
       "                   nan,          nan]]],\n",
       "  mask=False,\n",
       "  fill_value=1e+20)"
      ]
     },
     "execution_count": 10,
     "metadata": {},
     "output_type": "execute_result"
    }
   ],
   "source": [
    "res[\"q\"]"
   ]
  },
  {
   "cell_type": "code",
   "execution_count": 11,
   "id": "94101426",
   "metadata": {},
   "outputs": [
    {
     "data": {
      "image/png": "[encoded data removed]",
      "text/plain": [
       "<Figure size 900x400 with 4 Axes>"
      ]
     },
     "metadata": {},
     "output_type": "display_data"
    }
   ],
   "source": [
    "fig, ax = plt.subplots(2, 2, figsize=(9, 4))\n",
    "p = 0\n",
    "i = 2\n",
    "\n",
    "net.r = res[\"tau_n\"][i]\n",
    "gamma_net = net.gamma(nu=np.tile(res[\"rateWnt\"], (2, 1)), q=res[\"q\"][:, i, :], p=p)\n",
    "ax[0][0].plot(res[\"rateWnt\"], res[\"q\"][0, i, :])\n",
    "ax[0][0].plot(res[\"rateWnt\"], res[\"q\"][1, i, :])\n",
    "\n",
    "ax[0][1].plot(res[\"rateWnt\"], res[\"gamma\"][p, i, :], \"k-\")\n",
    "ax[0][1].plot(res[\"rateWnt\"], gamma_net, \"r-\")\n",
    "\n",
    "ax[1][0].plot([0, 2.5], [0, 2.5], \"k--\")\n",
    "ax[1][0].plot(\n",
    "    res[\"gamma\"][p, i, :],\n",
    "    net.gamma(nu=np.tile(res[\"rateWnt\"], (2, 1)), q=res[\"q\"][:, i, :], p=p),\n",
    "    \"r.\",\n",
    ")\n",
    "\n",
    "ax[1][1].plot(res[\"rateWnt\"], res[\"gamma\"][p, i, :] - gamma_net, \"r-\")\n",
    "plt.show()"
   ]
  },
  {
   "cell_type": "code",
   "execution_count": 12,
   "id": "e5d38a38",
   "metadata": {},
   "outputs": [],
   "source": [
    "# np.tile(res[\"rateWnt\"][i1], (2, 1))"
   ]
  },
  {
   "cell_type": "code",
   "execution_count": 13,
   "id": "9080f663",
   "metadata": {},
   "outputs": [
    {
     "name": "stdout",
     "output_type": "stream",
     "text": [
      "rate=2.0, r=0.7000000000000001\n",
      "gamma=nan, delta=nan\n",
      "[16.15987924]\n",
      "rate=0.6000000000000001, r=0.1\n",
      "gamma=0.16970349816651223, delta=2.358659737531167\n",
      "[18.9357308]\n"
     ]
    },
    {
     "name": "stderr",
     "output_type": "stream",
     "text": [
      "/home/wollex/Documents/Science/WolfGroup/DarkMatter/Programme/DM_theory/network.py:112: RuntimeWarning: divide by zero encountered in divide\n",
      "  distr = self.gamma(nu,q,p)/(self.rate_max(nu,p)*np.sqrt(-np.pi*np.log(rate_ratio)))* \\\n"
     ]
    },
    {
     "data": {
      "image/png": "[encoded data removed]",
      "text/plain": [
       "<Figure size 600x300 with 4 Axes>"
      ]
     },
     "metadata": {},
     "output_type": "display_data"
    }
   ],
   "source": [
    "from matplotlib import pyplot as plt\n",
    "\n",
    "p = 1\n",
    "i1 = 30  # idx in tau_n\n",
    "i2 = 10  # idx in rate\n",
    "net = network(**options)\n",
    "\n",
    "fig = plt.figure(figsize=(6, 3))\n",
    "gs = fig.add_gridspec(2, 3)\n",
    "\n",
    "ax_I = fig.add_subplot(gs[1, 1:])\n",
    "ax_response = fig.add_subplot(gs[0, 1:])\n",
    "ax_fr = fig.add_subplot(gs[0, 0])\n",
    "\n",
    "ax_response_inset = fig.add_subplot()\n",
    "plt.setp(ax_response_inset, position=[0.725, 0.7, 0.2, 0.15])\n",
    "# ax_fr.invert_xaxis()\n",
    "\n",
    "\n",
    "def plot_distributions(axes, net, i1, i2, p):\n",
    "\n",
    "    print(f\"rate={res['rateWnt'][i2]}, r={res['tau_n'][i1]}\")\n",
    "    print(f\"gamma={res['gamma'][p,i1,i2]}, delta={res['delta'][p,i1,i2]}\")\n",
    "\n",
    "    net.r = res[\"tau_n\"][i1]\n",
    "    alpha = net.alpha(res[\"q\"][:, i1, i2], p)\n",
    "    sigma_V = net.sigma_V(np.tile(res[\"rateWnt\"][i2], (2, 1)), p)\n",
    "\n",
    "    I_arr = np.linspace(-0.31, 0.03, 1001)\n",
    "    I_distr = (\n",
    "        1\n",
    "        / (np.sqrt(2 * np.pi) * alpha)\n",
    "        * np.exp(-((I_arr + res[\"I_balance\"][p, i1, i2]) ** 2) / (2 * alpha**2))\n",
    "    )\n",
    "    axes[0].plot(I_arr, I_distr)\n",
    "\n",
    "    nu_max = net.rate_max(np.tile(res[\"rateWnt\"][i2], (2, 1)), p)\n",
    "    print(nu_max)\n",
    "    nu_response = nu_max * np.exp(-(I_arr**2) / (2 * sigma_V**2))\n",
    "    axes[1][0].plot(I_arr, nu_response, label=f\"$r_N = {res['tau_n'][i1]:.1f}$\")\n",
    "    axes[1][1].plot(I_arr, nu_response)\n",
    "\n",
    "    nu_arr, distr = net.distribution(\n",
    "        np.tile(res[\"rateWnt\"][i2], (2, 1)), res[\"q\"][:, i1, i2], p, steps=10001\n",
    "    )\n",
    "    axes[2].plot(distr, nu_arr * nu_max, label=\"bla\")\n",
    "\n",
    "\n",
    "plot_distributions([ax_I, [ax_response, ax_response_inset], ax_fr], net, 69, 9, p)\n",
    "plot_distributions([ax_I, [ax_response, ax_response_inset], ax_fr], net, 9, 2, p)\n",
    "\n",
    "ax_I.axvline(0, color=\"k\", ls=\"--\")\n",
    "plt.setp(\n",
    "    ax_fr,\n",
    "    xlim=[0.6, 0],\n",
    "    ylim=[0, 10.0],\n",
    "    xlabel=r\"$\\rho(\\nu)$\",\n",
    "    ylabel=r\"firing rate $\\nu(\\bar{I})$\",\n",
    ")\n",
    "plt.setp(ax_response, ylim=[0, 10.0])\n",
    "plt.setp(ax_I, xlabel=\"input current\", ylabel=r\"$\\rho(\\bar{I})$\")\n",
    "\n",
    "ax_response.spines[[\"top\", \"right\"]].set_visible(False)\n",
    "ax_response_inset.spines[[\"top\", \"right\"]].set_visible(False)\n",
    "ax_fr.spines[[\"top\", \"left\"]].set_visible(False)\n",
    "ax_I.spines[[\"top\", \"right\"]].set_visible(False)\n",
    "\n",
    "ax_fr.tick_params(\n",
    "    labelbottom=False,\n",
    "    labeltop=False,\n",
    "    labelleft=False,\n",
    "    labelright=True,\n",
    "    bottom=True,\n",
    "    top=False,\n",
    "    left=False,\n",
    "    right=True,\n",
    ")\n",
    "ax_fr.yaxis.set_label_position(\"right\")\n",
    "\n",
    "ax_response.tick_params(\n",
    "    labelbottom=False,\n",
    "    labeltop=False,\n",
    "    labelleft=False,\n",
    "    labelright=False,\n",
    "    bottom=True,\n",
    "    top=False,\n",
    "    left=True,\n",
    "    right=False,\n",
    ")\n",
    "\n",
    "# ax_fr.set_title('rate distributions',fontsize=10)\n",
    "# ax_response.set_title('Gauss neuron response function',fontsize=10)\n",
    "# ax_I.set_title('input current distribution across network',fontsize=10)\n",
    "# ax_fr.legend(loc='upper left')\n",
    "ax_response.legend(loc=\"lower right\")\n",
    "# ax_I.legend(loc='upper left')\n",
    "plt.tight_layout(rect=[0, 0.1, 1, 1.0])\n",
    "plt.setp(ax_response_inset, position=[0.425, 0.775, 0.2, 0.15])\n",
    "\n",
    "# fig.savefig(\"../Discussion/firing_rates_.pdf\", bbox_inches='tight')\n",
    "# plt.plot(np.linspace(0,1,11),net.sigma_V_dot(nu=np.array([[1.],[1.]]),r=np.linspace(0,1,11)))\n",
    "plt.show()"
   ]
  },
  {
   "cell_type": "code",
   "execution_count": 14,
   "id": "dec5790c",
   "metadata": {},
   "outputs": [],
   "source": [
    "import numpy as np\n",
    "\n",
    "\n",
    "def kernel(t, r, tau_A=0.005, tau_N=0.2):\n",
    "    return (1 - r) * 1.0 / tau_A * np.exp(-t / tau_A) + r * 1.0 / tau_N * np.exp(\n",
    "        -t / tau_N\n",
    "    )\n",
    "\n",
    "\n",
    "def kernel_filtered(t, r, tau_A=0.005, tau_N=0.2, tau_M=0.01):\n",
    "    return (1 - r) * 1.0 / abs(tau_A - tau_M) * np.exp(-t / tau_A) + r * 1.0 / abs(\n",
    "        tau_N - tau_M\n",
    "    ) * np.exp(-t / tau_N)\n",
    "\n",
    "\n",
    "def FT_kernel(w, r, tau_A=0.002, tau_N=0.2, tau_M=0.01, current=True):\n",
    "    def fact(tau_I):\n",
    "        # return 1\n",
    "        return 1.0 if current else (1 - tau_M / tau_I)\n",
    "\n",
    "    add = (\n",
    "        0\n",
    "        if current\n",
    "        else ((1 - r) * tau_M / (tau_A - tau_M) + r * tau_M / (tau_N - tau_M))\n",
    "        * 1\n",
    "        / (1 + w**2 * tau_M**2)\n",
    "    )\n",
    "\n",
    "    return (\n",
    "        1\n",
    "        / np.sqrt(2 * np.pi)\n",
    "        * (\n",
    "            (1 - r) / (fact(tau_A) * (1 + w**2 * tau_A**2))\n",
    "            + r / (fact(tau_N) * (1 + w**2 * tau_N**2))\n",
    "            - add\n",
    "        )\n",
    "    ) ** 2\n",
    "\n",
    "\n",
    "def PSD(w, r, tau_A=0.001, tau_N=0.150, tau_M=0.01, tau_G=0.005, pl=False):\n",
    "\n",
    "    ## when looking merely at one spike, the impact of inhibitory kernels does...\n",
    "    ## ... not have to be included (its a different spike)\n",
    "\n",
    "    # psd_G = -tau_G / (tau_G - tau_M) * 1. / (1 + tau_G**2 * w**2)\n",
    "    # psd_G = 0\n",
    "\n",
    "    psd_A = tau_A / (tau_A - tau_M) * (1 - r) * 1.0 / (1 + tau_A**2 * w**2)\n",
    "    psd_N = tau_N / (tau_N - tau_M) * r * 1.0 / (1 + tau_N**2 * w**2)\n",
    "    psd_mix = (\n",
    "        -((1 - r) * tau_M / (tau_A - tau_M) + r * tau_M / (tau_N - tau_M))\n",
    "        * 1.0\n",
    "        / (1 + tau_M**2 * w**2)\n",
    "    )\n",
    "\n",
    "    # psd_A = tau_A**2 / (tau_A - tau_M) * (1-r) * 1. / (1 + tau_A**2 * w**2)\n",
    "    # psd_N = tau_N**2 / (tau_N - tau_M) * r * 1. / (1 + tau_N**2 * w**2)\n",
    "    # psd_mix = - ( (1-r) * tau_M * tau_A / (tau_A - tau_M) + r * tau_M * tau_N / (tau_N - tau_M)) * 1. / (1 + tau_M**2 * w**2)\n",
    "\n",
    "    psd_real = 1 / (2 * np.pi) * (psd_A + psd_N + psd_mix)\n",
    "    psd_imaginary = (\n",
    "        1 / (2 * np.pi) * (psd_A * tau_A + psd_N * tau_N + psd_mix * tau_M) * w\n",
    "    )\n",
    "\n",
    "    psd_total = psd_real**2 + psd_imaginary**2\n",
    "\n",
    "    if pl:\n",
    "        fig, ax = plt.subplots(1, 2, figsize=(5, 2))\n",
    "        ax[0].plot(w, psd_A, label=\"A\")\n",
    "        ax[0].plot(w, psd_N, label=\"N\")\n",
    "        ax[0].plot(w, psd_mix, label=\"mix\")\n",
    "\n",
    "        ax[1].plot(w, psd_real, label=\"real\")\n",
    "        ax[1].plot(w, psd_imaginary, label=\"imaginary\")\n",
    "\n",
    "        ax[0].legend()\n",
    "        ax[1].legend()\n",
    "\n",
    "        plt.show()\n",
    "    return psd_total\n",
    "\n",
    "\n",
    "def PSD_current(w, r, tau_A=0.005, tau_N=0.2, tau_M=0.01, pl=False):\n",
    "\n",
    "    psd_A = (1 - r) / (1 + tau_A**2 * w**2)\n",
    "    psd_N = r / (1 + tau_N**2 * w**2)\n",
    "\n",
    "    psd_real = 1 / (2 * np.pi) * (psd_A + psd_N)\n",
    "    psd_imaginary = -1 / (2 * np.pi) * (psd_A * tau_A + psd_N * tau_N) * w\n",
    "\n",
    "    psd_total = psd_real**2 + psd_imaginary**2\n",
    "\n",
    "    if pl:\n",
    "        fig, ax = plt.subplots(1, 2, figsize=(5, 2))\n",
    "        ax[0].plot(w, psd_A, label=\"A\")\n",
    "        ax[0].plot(w, psd_N, label=\"N\")\n",
    "\n",
    "        ax[1].plot(w, psd_real, label=\"real\")\n",
    "        ax[1].plot(w, psd_imaginary, label=\"imaginary\")\n",
    "\n",
    "        ax[0].legend()\n",
    "        ax[1].legend()\n",
    "\n",
    "        plt.show()\n",
    "\n",
    "    return psd_total"
   ]
  },
  {
   "cell_type": "code",
   "execution_count": null,
   "id": "45ec0e38",
   "metadata": {
    "scrolled": false
   },
   "outputs": [
    {
     "data": {
      "image/png": "[encoded data removed]",
      "text/plain": [
       "<Figure size 600x250 with 2 Axes>"
      ]
     },
     "metadata": {},
     "output_type": "display_data"
    }
   ],
   "source": [
    "import matplotlib.pyplot as plt\n",
    "from scipy.integrate import quad\n",
    "\n",
    "# %matplotlib nbagg\n",
    "\n",
    "w_arr = np.linspace(0, 1000, 10001)\n",
    "FT = FT_kernel(w_arr, 0.5)\n",
    "\n",
    "fig = plt.figure(figsize=(6, 2.5))\n",
    "gs = fig.add_gridspec(1, 3)\n",
    "ax_full_PSD = fig.add_subplot(gs[0, 0:2])\n",
    "ax_bandwidth = fig.add_subplot(gs[0, 2])\n",
    "\n",
    "# fig,ax = plt.subplots(1,2,figsize=(6,2.5))\n",
    "# ax_full_PSD.fill_betweenx([0, 1], 2, 4, color=\"grey\", alpha=0.5, lw=0)\n",
    "# ax_full_PSD.fill_betweenx([0, 1], 30, 90, color=\"grey\", alpha=0.5, lw=0)\n",
    "\n",
    "# ax_full_PSD.text(1.5, 0.028, \"  low \\n($0.1-4\\,$Hz)\", fontsize=8)\n",
    "# ax_full_PSD.text(25.0, 0.028, \"  high \\n($30-90\\,$Hz)\", fontsize=8)\n",
    "\n",
    "labels = [\"$r=0$ (AMPA only)\", \"$r=0.5$\", \"$r=0.7$\", \"$r=1$ (NMDA only)\"]\n",
    "colors = [\"tab:red\", \"tab:orange\", \"tab:blue\", \"tab:green\"]\n",
    "for i, r in enumerate([0.0, 0.5, 0.7, 1.0]):\n",
    "    # plt.plot(w_arr,FT_kernel(w_arr,r=r,current=False),label=f'r={r}')\n",
    "    # ax[0].plot(w_arr,PSD_current(w_arr,r=r,tau_A=0.001,tau_N=0.2,tau_M=0.01,pl=False),label=f'r={r}')\n",
    "    ax_full_PSD.plot(\n",
    "        w_arr,\n",
    "        PSD(w_arr, r=r, tau_A=0.006, tau_N=0.160, tau_M=0.01, pl=False),\n",
    "        color=colors[i],\n",
    "        label=labels[i],\n",
    "    )  # ,label=f'r={r}')\n",
    "\n",
    "# for axx in [ax[0]]:\n",
    "ax_full_PSD.set_xscale(\"log\")\n",
    "plt.setp(\n",
    "    ax_full_PSD,\n",
    "    xlabel=\"$\\omega$\",\n",
    "    ylabel=\"$PSD$\",\n",
    "    xlim=[8 * 10 ** (-1), 0.3 * 10**3],\n",
    "    ylim=[0, 0.05],\n",
    ")\n",
    "ax_full_PSD.legend(loc=[0.05, 0.8], ncol=2, fontsize=8)\n",
    "ax_full_PSD.spines[[\"top\", \"right\"]].set_visible(False)\n",
    "\n",
    "col = [\"tab:orange\", \"tab:blue\"]\n",
    "# for p,PSD_fun in enumerate([PSD_current,PSD]):\n",
    "# PSD_fun = PSD\n",
    "for i, r in enumerate([0.5, 0.7]):\n",
    "    PSD_total = quad(PSD, 0, np.inf, args=(r))[0]\n",
    "\n",
    "    # PSD_low = quad(PSD, 0.01, 4, args=(r, 0.006, 0.160, 0.01))[0] / PSD_total\n",
    "    PSD_low = quad(PSD, 0.0, 30, args=(r, 0.001, 0.150, 0.01))[0] / PSD_total\n",
    "    PSD_high = quad(PSD, 30, np.inf, args=(r, 0.001, 0.150, 0.01))[0] / PSD_total\n",
    "    # print(PSD_low,PSD_high)\n",
    "\n",
    "    ax_bandwidth.plot(0.1 - i * 0.2, PSD_low, \"o\", color=col[i])\n",
    "    ax_bandwidth.plot(1.1 - i * 0.2, PSD_high, \"o\", color=col[i])\n",
    "\n",
    "ax_bandwidth.plot(0, np.NaN, \"o\", color=\"tab:blue\", label='r=0.7 (\"control\")')\n",
    "ax_bandwidth.plot(0, np.NaN, \"o\", color=\"tab:orange\", label='r=0.5 (\"cTKO\")')\n",
    "\n",
    "ax_bandwidth.legend(fontsize=8, loc=\"upper left\")\n",
    "plt.setp(\n",
    "    ax_bandwidth,\n",
    "    xlim=[-0.5, 1.5],\n",
    "    ylim=[0, 1.0],\n",
    "    xticks=[0, 1],\n",
    "    # xticklabels=['$2-4\\,$Hz','$30-90\\,$Hz'])\n",
    "    xticklabels=[\"low\", \"high\"],\n",
    "    ylabel=\"relative band power\",\n",
    ")\n",
    "plt.setp(ax_bandwidth.get_xticklabels(), rotation=60)\n",
    "ax_bandwidth.spines[[\"top\", \"right\"]].set_visible(False)\n",
    "\n",
    "plt.tight_layout()\n",
    "# fig.savefig(\"figures/PSD.pdf\", bbox_inches='tight')\n",
    "\n",
    "plt.show()"
   ]
  },
  {
   "cell_type": "code",
   "execution_count": null,
   "id": "c91c5c35",
   "metadata": {},
   "outputs": [],
   "source": []
  }
 ],
 "metadata": {
  "kernelspec": {
   "display_name": "inference",
   "language": "python",
   "name": "python3"
  },
  "language_info": {
   "codemirror_mode": {
    "name": "ipython",
    "version": 3
   },
   "file_extension": ".py",
   "mimetype": "text/x-python",
   "name": "python",
   "nbconvert_exporter": "python",
   "pygments_lexer": "ipython3",
   "version": "3.9.13"
  }
 },
 "nbformat": 4,
 "nbformat_minor": 5
}
