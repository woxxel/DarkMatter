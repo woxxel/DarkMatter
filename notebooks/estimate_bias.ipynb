{
 "cells": [
  {
   "cell_type": "code",
   "execution_count": 39,
   "metadata": {},
   "outputs": [
    {
     "name": "stdout",
     "output_type": "stream",
     "text": [
      "The autoreload extension is already loaded. To reload it, use:\n",
      "  %reload_ext autoreload\n"
     ]
    }
   ],
   "source": [
    "%load_ext autoreload\n",
    "%autoreload 2\n",
    "\n",
    "import sys\n",
    "from pathlib import Path\n",
    "root_dir = Path.cwd().parent\n",
    "if not root_dir in sys.path: sys.path.insert(0,str(root_dir))\n",
    "\n",
    "import numpy as np\n",
    "from matplotlib import pyplot as plt\n",
    "from empirical.readData import draw_samples\n",
    "from inference.utils.utils import p_nu\n",
    "from DM_theory.functions import get_nu_bar, get_q, get_alpha_0, get_tau_I"
   ]
  },
  {
   "cell_type": "code",
   "execution_count": 37,
   "metadata": {},
   "outputs": [],
   "source": [
    "from scipy import optimize\n",
    "\n",
    "def get_nu_max(tau_I, tau_M):\n",
    "    return 1 / (2 * np.pi * np.sqrt(tau_I * tau_M))\n",
    "\n",
    "\n",
    "def get_params_from_moments(nu_mean, nu_std, tau_I, tau_M):\n",
    "\tdef delta_from_moments(gamma,nu_mean, nu_std, tau_I, tau_M, which=\"nu\"):\n",
    "\n",
    "\t\t# q_0 = alpha_0**2 / J**2\n",
    "\t\tq = nu_mean**2 + nu_std**2  # - q_0\n",
    "\t\tnu_max = get_nu_max(tau_I, tau_M)\n",
    "\n",
    "\t\tdelta_q = np.sqrt(\n",
    "\t\t\t-np.log(q / nu_max**2 * np.sqrt((2 + gamma**2) / gamma**2)) * (2 + gamma**2)\n",
    "\t\t)\n",
    "\t\tdelta_nu = np.sqrt(\n",
    "\t\t\t-np.log(nu_mean / nu_max * np.sqrt((1 + gamma**2) / gamma**2))\n",
    "\t\t\t* 2\n",
    "\t\t\t* (1 + gamma**2)\n",
    "\t\t)\n",
    "\t\t# print(f\"{delta_q=}, {delta_nu=}\")\n",
    "\t\tif which == \"q\":\n",
    "\t\t\treturn delta_q\n",
    "\t\telif which == \"nu\":\n",
    "\t\t\treturn delta_nu\n",
    "\t\t\n",
    "\tdef delta_intersection(gamma,nu_mean, nu_std, tau_I, tau_M):\n",
    "\t\treturn delta_from_moments(gamma,nu_mean,nu_std,tau_I,tau_M,which=\"nu\") - delta_from_moments(gamma,nu_mean,nu_std,tau_I,tau_M,which=\"q\") \n",
    "\n",
    "\tsol = optimize.root_scalar(\n",
    "\t\tdelta_intersection,\n",
    "\t\targs=(nu_mean, nu_std, tau_I, tau_M),\n",
    "\t\tmethod=\"brentq\",\n",
    "\t\tbracket=[0.1, 10],\n",
    "\t)\n",
    "\n",
    "\tnu_max = get_nu_max(tau_I, tau_M)\n",
    "\n",
    "\tgamma = sol.root\n",
    "\tdelta = delta_from_moments(gamma,nu_mean, nu_std, tau_I, tau_M, which=\"nu\")\n",
    "\talpha_0 = get_alpha_0(gamma, delta, nu_max)\n",
    "\treturn gamma, delta, nu_max, alpha_0"
   ]
  },
  {
   "cell_type": "code",
   "execution_count": 43,
   "metadata": {},
   "outputs": [
    {
     "name": "stdout",
     "output_type": "stream",
     "text": [
      "tau_I: 0.0015831434944115277\n",
      "Sample mean: 1.5817940113362239, nu mean: 1.5959540910682242\n",
      "Sample variance: 4.9630931984996804, nu variance: 5.095084187375149\n",
      "Biased parameters: (1.9530822122554725, 5.475766655892323, 40.0, array([[0.03230296]]))\n"
     ]
    },
    {
     "data": {
      "image/png": "[encoded data removed]",
      "text/plain": [
       "<Figure size 640x480 with 2 Axes>"
      ]
     },
     "metadata": {},
     "output_type": "display_data"
    }
   ],
   "source": [
    "parameter = {\"distr\": [{\"gamma\": 1.7, \"delta\": 4.5, \"nu_max\": 25.0}]}\n",
    "\n",
    "tau_M = 0.01\n",
    "# tau_I = get_tau_I(parameter[\"distr\"][0]['nu_max'],tau_M)\n",
    "tau_I = get_tau_I(40,tau_M)\t\n",
    "print(f\"tau_I: {tau_I}\")\n",
    "N = 50\n",
    "T = 1200\n",
    "\n",
    "L = 1000\n",
    "sample_mean = np.zeros(L)\n",
    "sample_var = np.zeros(L)\n",
    "for i in range(L):\n",
    "\tsamples, samples_T = draw_samples(f_target=p_nu,params=parameter,n_samples=N,T=T,tolerance=0.01,plot=False,save=False)\n",
    "\n",
    "\tsample_mean[i] = samples.mean()\n",
    "\tsample_var[i] = samples.var()\n",
    "nu_mean = get_nu_bar(**parameter[\"distr\"][0])\n",
    "nu_q = get_q(**parameter[\"distr\"][0])\n",
    "nu_var = nu_q - nu_mean**2\n",
    "\n",
    "print(f\"Sample mean: {sample_mean.mean()}, nu mean: {nu_mean}\")\n",
    "print(f\"Sample variance: {sample_var.mean()}, nu variance: {nu_var}\")\n",
    "\n",
    "fig = plt.figure()\n",
    "ax = fig.add_subplot(121)\n",
    "ax.hist(sample_mean,bins=50)\n",
    "ax.axvline(nu_mean, color='r', linestyle='dashed', linewidth=1)\n",
    "ax.set_title(\"Sample mean\")\t\n",
    "\n",
    "ax = fig.add_subplot(122)\n",
    "ax.hist(sample_var,bins=50)\n",
    "ax.axvline(nu_var, color='r', linestyle='dashed', linewidth=1)\n",
    "ax.set_title(\"Sample variance\")\n",
    "\n",
    "params_biased= get_params_from_moments(\n",
    "\t\tnu_mean=sample_mean.mean(),\n",
    "\t\tnu_std=np.sqrt(sample_var.mean()),\n",
    "\t\ttau_I=tau_I,\n",
    "\t\ttau_M=tau_M\n",
    "\t)\n",
    "print(f\"Biased parameters: {params_biased}\")"
   ]
  },
  {
   "cell_type": "code",
   "execution_count": null,
   "metadata": {},
   "outputs": [],
   "source": []
  }
 ],
 "metadata": {
  "kernelspec": {
   "display_name": "inference-kernel",
   "language": "python",
   "name": "inference-kernel"
  },
  "language_info": {
   "codemirror_mode": {
    "name": "ipython",
    "version": 3
   },
   "file_extension": ".py",
   "mimetype": "text/x-python",
   "name": "python",
   "nbconvert_exporter": "python",
   "pygments_lexer": "ipython3",
   "version": "3.9.13"
  }
 },
 "nbformat": 4,
 "nbformat_minor": 2
}
