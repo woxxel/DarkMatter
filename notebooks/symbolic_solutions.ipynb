{
 "cells": [
  {
   "cell_type": "code",
   "execution_count": 1,
   "metadata": {},
   "outputs": [],
   "source": [
    "import numpy as np\n",
    "from sympy import solve\n",
    "from sympy.abc import c, r, A, N, M\n",
    "\n",
    "import matplotlib.pyplot as plt"
   ]
  },
  {
   "cell_type": "code",
   "execution_count": 2,
   "metadata": {},
   "outputs": [
    {
     "data": {
      "text/latex": [
       "$\\displaystyle - c + \\frac{1.0 \\left(\\frac{N r \\left(1 - r\\right)}{A + N} + 0.5 r^{2}\\right)}{M + N} + \\frac{1.0 \\left(\\frac{A r \\left(1 - r\\right)}{A + N} + 0.5 \\left(1 - r\\right)^{2}\\right)}{A + M}$"
      ],
      "text/plain": [
       "-c + 1.0*(N*r*(1 - r)/(A + N) + 0.5*r**2)/(M + N) + 1.0*(A*r*(1 - r)/(A + N) + 0.5*(1 - r)**2)/(A + M)"
      ]
     },
     "execution_count": 2,
     "metadata": {},
     "output_type": "execute_result"
    }
   ],
   "source": [
    "(\n",
    "    1.0 / (A + M) * ((1 - r) ** 2 / 2.0 + (r * (1 - r) * A) / (A + N))\n",
    "    + 1.0 / (N + M) * ((r**2) / 2.0 + (r * (1 - r) * N) / (A + N))\n",
    "    - c\n",
    ")"
   ]
  },
  {
   "cell_type": "code",
   "execution_count": 3,
   "metadata": {},
   "outputs": [
    {
     "data": {
      "text/plain": [
       "[(-N - sqrt(2.0*A**2*M*c + 2.0*A**2*N*c + 2.0*A*M**2*c + 4.0*A*M*N*c - A*M + 2.0*A*N**2*c - A*N + 2.0*M**2*N*c + 2.0*M*N**2*c - M*N))/(A - N),\n",
       " (-N + sqrt(2.0*A**2*M*c + 2.0*A**2*N*c + 2.0*A*M**2*c + 4.0*A*M*N*c - A*M + 2.0*A*N**2*c - A*N + 2.0*M**2*N*c + 2.0*M*N**2*c - M*N))/(A - N)]"
      ]
     },
     "execution_count": 3,
     "metadata": {},
     "output_type": "execute_result"
    }
   ],
   "source": [
    "solve(\n",
    "    1.0 / (A + M) * ((1.0 - r) ** 2 / 2.0 + (r * (1.0 - r) * A) / (A + N))\n",
    "    + 1.0 / (N + M) * ((r**2) / 2.0 + (r * (1.0 - r) * N) / (A + N))\n",
    "    - c,\n",
    "    r,\n",
    ")"
   ]
  },
  {
   "cell_type": "code",
   "execution_count": 4,
   "metadata": {},
   "outputs": [],
   "source": [
    "def get_mixing(c, tau_A=0.005, tau_N=0.2, tau_M=0.01):\n",
    "    ## ignoring 2nd solution (which appears to yield solutions with r > 1, only)\n",
    "    return (\n",
    "        (\n",
    "            -tau_N\n",
    "            + 2.0\n",
    "            * np.sqrt(\n",
    "                0.5 * tau_A**2 * tau_M * c\n",
    "                + 0.5 * tau_A**2 * tau_N * c\n",
    "                + 0.5 * tau_A * tau_M**2 * c\n",
    "                + tau_A * tau_M * tau_N * c\n",
    "                + 0.5 * tau_A * tau_N**2 * c\n",
    "                + 0.5 * tau_M**2 * tau_N * c\n",
    "                + 0.5 * tau_M * tau_N**2 * c\n",
    "                - 0.25 * tau_A * tau_M\n",
    "                - 0.25 * tau_A * tau_N\n",
    "                - 0.25 * tau_M * tau_N\n",
    "            )\n",
    "        )\n",
    "        / (tau_A - tau_N),\n",
    "    )"
   ]
  },
  {
   "cell_type": "code",
   "execution_count": 5,
   "metadata": {},
   "outputs": [
    {
     "name": "stderr",
     "output_type": "stream",
     "text": [
      "/tmp/ipykernel_43903/153398779.py:7: RuntimeWarning: invalid value encountered in sqrt\n",
      "  * np.sqrt(\n"
     ]
    },
    {
     "data": {
      "text/plain": [
       "(array([        nan,         nan,         nan,         nan,         nan,\n",
       "                nan,  0.98952448,  0.9036156 ,  0.85689268,  0.82055129,\n",
       "         0.78974359,  0.76251862,  0.73785778,  0.71514949,  0.69399242,\n",
       "         0.6741064 ,  0.65528661,  0.63737798,  0.62025974,  0.60383563,\n",
       "         0.58802751,  0.57277086,  0.5580117 ,  0.54370432,  0.52980962,\n",
       "         0.51629381,  0.5031275 ,  0.4902849 ,  0.47774324,  0.46548232,\n",
       "         0.45348407,  0.44173232,  0.43021246,  0.41891129,  0.4078168 ,\n",
       "         0.39691806,  0.38620505,  0.37566859,  0.36530023,  0.35509217,\n",
       "         0.3450372 ,  0.33512863,  0.32536025,  0.31572627,  0.30622129,\n",
       "         0.29684026,  0.28757846,  0.27843145,  0.26939506,  0.26046539,\n",
       "         0.25163873,  0.2429116 ,  0.23428071,  0.22574294,  0.21729534,\n",
       "         0.20893511,  0.2006596 ,  0.19246629,  0.18435276,  0.17631674,\n",
       "         0.16835604,  0.16046859,  0.1526524 ,  0.14490557,  0.13722629,\n",
       "         0.12961283,  0.12206351,  0.11457674,  0.107151  ,  0.09978481,\n",
       "         0.09247677,  0.08522552,  0.07802975,  0.07088822,  0.06379971,\n",
       "         0.05676305,  0.04977714,  0.04284088,  0.03595324,  0.02911319,\n",
       "         0.02231978,  0.01557206,  0.00886912,  0.00221007, -0.00440592,\n",
       "        -0.01097969, -0.01751204, -0.02400373, -0.03045552, -0.03686813,\n",
       "        -0.04324227, -0.04957863, -0.05587786, -0.06214062, -0.06836752,\n",
       "        -0.07455918, -0.08071619, -0.08683913, -0.09292855, -0.098985  ,\n",
       "        -0.10500901]),)"
      ]
     },
     "execution_count": 5,
     "metadata": {},
     "output_type": "execute_result"
    }
   ],
   "source": [
    "get_mixing(np.linspace(0, 40, 101))"
   ]
  },
  {
   "cell_type": "code",
   "execution_count": 26,
   "metadata": {},
   "outputs": [],
   "source": [
    "import sympy\n",
    "from sympy.abc import c,d\n",
    "from sympy.abc import gamma, delta, nu\n",
    "from sympy.abc import sigma, alpha\n",
    "from sympy.abc import epsilon, eta\n",
    "\n",
    "nu_E, nu_I = sympy.symbols(\"nu_E nu_I\")\n",
    "q_E, q_I = sympy.symbols(\"q_E q_I\")\n",
    "alpha_0_E, alpha_0_I = sympy.symbols(\"alpha_0_E alpha_0_I\")\n",
    "tau_I, tau_E, tau_M = sympy.symbols(\"tau_I tau_E tau_M\")\n",
    "\n",
    "J0 = sympy.symbols(\"J0\")\n",
    "\n",
    "J_EE = J0 * tau_M * (1 - epsilon**2)**(1/2.)\n",
    "J_EI = J0 * tau_M * (1 - eta**2 * epsilon**2)**(1/2.)\n",
    "J_IE = J0 * tau_M * epsilon\n",
    "J_II = J0 * tau_M * eta * epsilon\n",
    "\n",
    "sigma_EE = J_EE**2 * nu_E / ( 2 * (tau_E + tau_M))\n",
    "sigma_EI = J_EI**2 * nu_I / ( 2 * (tau_I + tau_M))\n",
    "sigma_IE = J_IE**2 * nu_E / ( 2 * (tau_E + tau_M))\n",
    "sigma_II = J_II**2 * nu_I / ( 2 * (tau_I + tau_M))\n",
    "\n",
    "sigma_E = sigma_EE + sigma_EI\n",
    "sigma_I = sigma_IE + sigma_II\n",
    "\n",
    "sigma_dot_E = sigma_EE/(tau_E + tau_M) + sigma_EI/(tau_I + tau_M)\n",
    "sigma_dot_I = sigma_IE/(tau_E + tau_M) + sigma_II/(tau_I + tau_M)\n",
    "\n",
    "\n",
    "nu_max_E = 1/(2*sympy.pi) * (sigma_dot_E/sigma_E)**(1/2.)\n",
    "nu_max_I = 1/(2*sympy.pi) * (sigma_dot_I/sigma_I)**(1/2.)\n",
    "\n",
    "alpha_EE = J_EE**2 * q_E\n",
    "alpha_EI = J_EI**2 * q_I\n",
    "alpha_IE = J_IE**2 * q_E\n",
    "alpha_II = J_II**2 * q_I\n",
    "\n",
    "alpha_E = alpha_EE + alpha_EI + alpha_0_E\n",
    "alpha_I = alpha_IE + alpha_II + alpha_0_I\n",
    "\n",
    "\n",
    "gamma_E = (sigma_E/alpha_E)**(1/2.)\n",
    "gamma_I = (sigma_I/alpha_I)**(1/2.)\n",
    "\n",
    "\n",
    "delta_E = (- (alpha_E + sigma_E)/alpha_E * sympy.log((nu_E / nu_max_E)**2 * (alpha_E / sigma_E + 1)))**(1/2.)\n",
    "delta_I = (- (alpha_I + sigma_I)/alpha_I * sympy.log((nu_I / nu_max_I)**2 * (alpha_I / sigma_I + 1)))**(1/2.)"
   ]
  },
  {
   "cell_type": "code",
   "execution_count": 35,
   "metadata": {},
   "outputs": [],
   "source": [
    "gamma_E_0, gamma_I_0, delta_E_0, delta_I_0, nu_max_E_0, nu_max_I_0 = sympy.symbols(\"gamma_E_0 gamma_I_0 delta_E_0 delta_I_0 nu_max_E_0 nu_max_I_0\")\n",
    "sol = sympy.solve(\n",
    "    (\n",
    "        gamma_E-gamma_E_0,\n",
    "        gamma_I-gamma_I_0,\n",
    "        # delta_E-delta_E_0,\n",
    "        # delta_I-delta_I_0,\n",
    "        # nu_max_E-nu_max_E_0,\n",
    "        # nu_max_I-nu_max_I_0\n",
    "    ),\n",
    "    # (nu_E,nu_I,alpha_0_E,alpha_0_I,tau_E,tau_I)\n",
    "    # (tau_E,tau_I,eta,epsilon)\n",
    "    (epsilon,eta)\n",
    ")\n",
    "# sol = sympy.solve(\n",
    "#     (\n",
    "#         gamma_E-gamma_E_0,\n",
    "#         gamma_I-gamma_I_0,\n",
    "#         delta_E-delta_E_0,\n",
    "#         delta_I-delta_I_0,\n",
    "#         nu_max_E-nu_max_E_0,\n",
    "#         nu_max_I-nu_max_I_0\n",
    "#     ),\n",
    "#     (nu_E,nu_I,alpha_0_E,alpha_0_I,tau_E,tau_I)\n",
    "#     # (tau_E,tau_I,eta,epsilon)\n",
    "#     # (epsilon)\n",
    "# )\n"
   ]
  },
  {
   "cell_type": "code",
   "execution_count": 36,
   "metadata": {},
   "outputs": [
    {
     "data": {
      "text/latex": [
       "$\\displaystyle \\left[ \\left( - \\frac{0.707106781186548 \\sqrt{\\frac{4.0 J_{0}^{2} \\gamma_{E 0}^{2} \\gamma_{I 0}^{2} q_{E} q_{I} \\tau_{E} \\tau_{I}^{2} \\tau_{M}^{2} + 8.0 J_{0}^{2} \\gamma_{E 0}^{2} \\gamma_{I 0}^{2} q_{E} q_{I} \\tau_{E} \\tau_{I} \\tau_{M}^{3} + 4.0 J_{0}^{2} \\gamma_{E 0}^{2} \\gamma_{I 0}^{2} q_{E} q_{I} \\tau_{E} \\tau_{M}^{4} + 4.0 J_{0}^{2} \\gamma_{E 0}^{2} \\gamma_{I 0}^{2} q_{E} q_{I} \\tau_{I}^{2} \\tau_{M}^{3} + 8.0 J_{0}^{2} \\gamma_{E 0}^{2} \\gamma_{I 0}^{2} q_{E} q_{I} \\tau_{I} \\tau_{M}^{4} + 4.0 J_{0}^{2} \\gamma_{E 0}^{2} \\gamma_{I 0}^{2} q_{E} q_{I} \\tau_{M}^{5} + 4.0 J_{0}^{2} \\gamma_{E 0}^{2} \\gamma_{I 0}^{2} q_{I}^{2} \\tau_{E} \\tau_{I}^{2} \\tau_{M}^{2} + 8.0 J_{0}^{2} \\gamma_{E 0}^{2} \\gamma_{I 0}^{2} q_{I}^{2} \\tau_{E} \\tau_{I} \\tau_{M}^{3} + 4.0 J_{0}^{2} \\gamma_{E 0}^{2} \\gamma_{I 0}^{2} q_{I}^{2} \\tau_{E} \\tau_{M}^{4} + 4.0 J_{0}^{2} \\gamma_{E 0}^{2} \\gamma_{I 0}^{2} q_{I}^{2} \\tau_{I}^{2} \\tau_{M}^{3} + 8.0 J_{0}^{2} \\gamma_{E 0}^{2} \\gamma_{I 0}^{2} q_{I}^{2} \\tau_{I} \\tau_{M}^{4} + 4.0 J_{0}^{2} \\gamma_{E 0}^{2} \\gamma_{I 0}^{2} q_{I}^{2} \\tau_{M}^{5} - 2.0 J_{0}^{2} \\gamma_{E 0}^{2} \\nu_{I} q_{E} \\tau_{E} \\tau_{I} \\tau_{M}^{2} - 2.0 J_{0}^{2} \\gamma_{E 0}^{2} \\nu_{I} q_{E} \\tau_{E} \\tau_{M}^{3} - 2.0 J_{0}^{2} \\gamma_{E 0}^{2} \\nu_{I} q_{E} \\tau_{I} \\tau_{M}^{3} - 2.0 J_{0}^{2} \\gamma_{E 0}^{2} \\nu_{I} q_{E} \\tau_{M}^{4} - 2.0 J_{0}^{2} \\gamma_{E 0}^{2} \\nu_{I} q_{I} \\tau_{E} \\tau_{I} \\tau_{M}^{2} - 2.0 J_{0}^{2} \\gamma_{E 0}^{2} \\nu_{I} q_{I} \\tau_{E} \\tau_{M}^{3} - 2.0 J_{0}^{2} \\gamma_{E 0}^{2} \\nu_{I} q_{I} \\tau_{I} \\tau_{M}^{3} - 2.0 J_{0}^{2} \\gamma_{E 0}^{2} \\nu_{I} q_{I} \\tau_{M}^{4} - 2.0 J_{0}^{2} \\gamma_{I 0}^{2} \\nu_{E} q_{I} \\tau_{I}^{2} \\tau_{M}^{2} - 4.0 J_{0}^{2} \\gamma_{I 0}^{2} \\nu_{E} q_{I} \\tau_{I} \\tau_{M}^{3} - 2.0 J_{0}^{2} \\gamma_{I 0}^{2} \\nu_{E} q_{I} \\tau_{M}^{4} - 2.0 J_{0}^{2} \\gamma_{I 0}^{2} \\nu_{I} q_{I} \\tau_{E} \\tau_{I} \\tau_{M}^{2} - 2.0 J_{0}^{2} \\gamma_{I 0}^{2} \\nu_{I} q_{I} \\tau_{E} \\tau_{M}^{3} - 2.0 J_{0}^{2} \\gamma_{I 0}^{2} \\nu_{I} q_{I} \\tau_{I} \\tau_{M}^{3} - 2.0 J_{0}^{2} \\gamma_{I 0}^{2} \\nu_{I} q_{I} \\tau_{M}^{4} + J_{0}^{2} \\nu_{E} \\nu_{I} \\tau_{I} \\tau_{M}^{2} + J_{0}^{2} \\nu_{E} \\nu_{I} \\tau_{M}^{3} + J_{0}^{2} \\nu_{I}^{2} \\tau_{E} \\tau_{M}^{2} + J_{0}^{2} \\nu_{I}^{2} \\tau_{M}^{3} + 4.0 \\alpha_{0 E} \\gamma_{E 0}^{2} \\gamma_{I 0}^{2} q_{I} \\tau_{E} \\tau_{I}^{2} + 8.0 \\alpha_{0 E} \\gamma_{E 0}^{2} \\gamma_{I 0}^{2} q_{I} \\tau_{E} \\tau_{I} \\tau_{M} + 4.0 \\alpha_{0 E} \\gamma_{E 0}^{2} \\gamma_{I 0}^{2} q_{I} \\tau_{E} \\tau_{M}^{2} + 4.0 \\alpha_{0 E} \\gamma_{E 0}^{2} \\gamma_{I 0}^{2} q_{I} \\tau_{I}^{2} \\tau_{M} + 8.0 \\alpha_{0 E} \\gamma_{E 0}^{2} \\gamma_{I 0}^{2} q_{I} \\tau_{I} \\tau_{M}^{2} + 4.0 \\alpha_{0 E} \\gamma_{E 0}^{2} \\gamma_{I 0}^{2} q_{I} \\tau_{M}^{3} - 2.0 \\alpha_{0 E} \\gamma_{E 0}^{2} \\nu_{I} \\tau_{E} \\tau_{I} - 2.0 \\alpha_{0 E} \\gamma_{E 0}^{2} \\nu_{I} \\tau_{E} \\tau_{M} - 2.0 \\alpha_{0 E} \\gamma_{E 0}^{2} \\nu_{I} \\tau_{I} \\tau_{M} - 2.0 \\alpha_{0 E} \\gamma_{E 0}^{2} \\nu_{I} \\tau_{M}^{2} + 4.0 \\alpha_{0 I} \\gamma_{E 0}^{2} \\gamma_{I 0}^{2} q_{I} \\tau_{E} \\tau_{I}^{2} + 8.0 \\alpha_{0 I} \\gamma_{E 0}^{2} \\gamma_{I 0}^{2} q_{I} \\tau_{E} \\tau_{I} \\tau_{M} + 4.0 \\alpha_{0 I} \\gamma_{E 0}^{2} \\gamma_{I 0}^{2} q_{I} \\tau_{E} \\tau_{M}^{2} + 4.0 \\alpha_{0 I} \\gamma_{E 0}^{2} \\gamma_{I 0}^{2} q_{I} \\tau_{I}^{2} \\tau_{M} + 8.0 \\alpha_{0 I} \\gamma_{E 0}^{2} \\gamma_{I 0}^{2} q_{I} \\tau_{I} \\tau_{M}^{2} + 4.0 \\alpha_{0 I} \\gamma_{E 0}^{2} \\gamma_{I 0}^{2} q_{I} \\tau_{M}^{3} - 2.0 \\alpha_{0 I} \\gamma_{I 0}^{2} \\nu_{I} \\tau_{E} \\tau_{I} - 2.0 \\alpha_{0 I} \\gamma_{I 0}^{2} \\nu_{I} \\tau_{E} \\tau_{M} - 2.0 \\alpha_{0 I} \\gamma_{I 0}^{2} \\nu_{I} \\tau_{I} \\tau_{M} - 2.0 \\alpha_{0 I} \\gamma_{I 0}^{2} \\nu_{I} \\tau_{M}^{2}}{\\left(\\gamma_{E 0} - \\gamma_{I 0}\\right) \\left(\\gamma_{E 0} + \\gamma_{I 0}\\right) \\left(\\tau_{I} + \\tau_{M}\\right) \\left(\\nu_{E} q_{I} \\tau_{I} + \\nu_{E} q_{I} \\tau_{M} - \\nu_{I} q_{E} \\tau_{E} - \\nu_{I} q_{E} \\tau_{M}\\right)}}}{J_{0} \\tau_{M}}, \\  - \\sqrt{- \\frac{\\left(\\tau_{I} + \\tau_{M}\\right) \\left(4.0 J_{0}^{2} \\gamma_{E 0}^{2} \\gamma_{I 0}^{2} q_{E}^{2} \\tau_{E}^{2} \\tau_{I} \\tau_{M}^{2} + 4.0 J_{0}^{2} \\gamma_{E 0}^{2} \\gamma_{I 0}^{2} q_{E}^{2} \\tau_{E}^{2} \\tau_{M}^{3} + 8.0 J_{0}^{2} \\gamma_{E 0}^{2} \\gamma_{I 0}^{2} q_{E}^{2} \\tau_{E} \\tau_{I} \\tau_{M}^{3} + 8.0 J_{0}^{2} \\gamma_{E 0}^{2} \\gamma_{I 0}^{2} q_{E}^{2} \\tau_{E} \\tau_{M}^{4} + 4.0 J_{0}^{2} \\gamma_{E 0}^{2} \\gamma_{I 0}^{2} q_{E}^{2} \\tau_{I} \\tau_{M}^{4} + 4.0 J_{0}^{2} \\gamma_{E 0}^{2} \\gamma_{I 0}^{2} q_{E}^{2} \\tau_{M}^{5} + 4.0 J_{0}^{2} \\gamma_{E 0}^{2} \\gamma_{I 0}^{2} q_{E} q_{I} \\tau_{E}^{2} \\tau_{I} \\tau_{M}^{2} + 4.0 J_{0}^{2} \\gamma_{E 0}^{2} \\gamma_{I 0}^{2} q_{E} q_{I} \\tau_{E}^{2} \\tau_{M}^{3} + 8.0 J_{0}^{2} \\gamma_{E 0}^{2} \\gamma_{I 0}^{2} q_{E} q_{I} \\tau_{E} \\tau_{I} \\tau_{M}^{3} + 8.0 J_{0}^{2} \\gamma_{E 0}^{2} \\gamma_{I 0}^{2} q_{E} q_{I} \\tau_{E} \\tau_{M}^{4} + 4.0 J_{0}^{2} \\gamma_{E 0}^{2} \\gamma_{I 0}^{2} q_{E} q_{I} \\tau_{I} \\tau_{M}^{4} + 4.0 J_{0}^{2} \\gamma_{E 0}^{2} \\gamma_{I 0}^{2} q_{E} q_{I} \\tau_{M}^{5} - 2.0 J_{0}^{2} \\gamma_{E 0}^{2} \\nu_{E} q_{E} \\tau_{E} \\tau_{I} \\tau_{M}^{2} - 2.0 J_{0}^{2} \\gamma_{E 0}^{2} \\nu_{E} q_{E} \\tau_{E} \\tau_{M}^{3} - 2.0 J_{0}^{2} \\gamma_{E 0}^{2} \\nu_{E} q_{E} \\tau_{I} \\tau_{M}^{3} - 2.0 J_{0}^{2} \\gamma_{E 0}^{2} \\nu_{E} q_{E} \\tau_{M}^{4} - 2.0 J_{0}^{2} \\gamma_{E 0}^{2} \\nu_{E} q_{I} \\tau_{E} \\tau_{I} \\tau_{M}^{2} - 2.0 J_{0}^{2} \\gamma_{E 0}^{2} \\nu_{E} q_{I} \\tau_{E} \\tau_{M}^{3} - 2.0 J_{0}^{2} \\gamma_{E 0}^{2} \\nu_{E} q_{I} \\tau_{I} \\tau_{M}^{3} - 2.0 J_{0}^{2} \\gamma_{E 0}^{2} \\nu_{E} q_{I} \\tau_{M}^{4} - 2.0 J_{0}^{2} \\gamma_{I 0}^{2} \\nu_{E} q_{E} \\tau_{E} \\tau_{I} \\tau_{M}^{2} - 2.0 J_{0}^{2} \\gamma_{I 0}^{2} \\nu_{E} q_{E} \\tau_{E} \\tau_{M}^{3} - 2.0 J_{0}^{2} \\gamma_{I 0}^{2} \\nu_{E} q_{E} \\tau_{I} \\tau_{M}^{3} - 2.0 J_{0}^{2} \\gamma_{I 0}^{2} \\nu_{E} q_{E} \\tau_{M}^{4} - 2.0 J_{0}^{2} \\gamma_{I 0}^{2} \\nu_{I} q_{E} \\tau_{E}^{2} \\tau_{M}^{2} - 4.0 J_{0}^{2} \\gamma_{I 0}^{2} \\nu_{I} q_{E} \\tau_{E} \\tau_{M}^{3} - 2.0 J_{0}^{2} \\gamma_{I 0}^{2} \\nu_{I} q_{E} \\tau_{M}^{4} + J_{0}^{2} \\nu_{E}^{2} \\tau_{I} \\tau_{M}^{2} + J_{0}^{2} \\nu_{E}^{2} \\tau_{M}^{3} + J_{0}^{2} \\nu_{E} \\nu_{I} \\tau_{E} \\tau_{M}^{2} + J_{0}^{2} \\nu_{E} \\nu_{I} \\tau_{M}^{3} + 4.0 \\alpha_{0 E} \\gamma_{E 0}^{2} \\gamma_{I 0}^{2} q_{E} \\tau_{E}^{2} \\tau_{I} + 4.0 \\alpha_{0 E} \\gamma_{E 0}^{2} \\gamma_{I 0}^{2} q_{E} \\tau_{E}^{2} \\tau_{M} + 8.0 \\alpha_{0 E} \\gamma_{E 0}^{2} \\gamma_{I 0}^{2} q_{E} \\tau_{E} \\tau_{I} \\tau_{M} + 8.0 \\alpha_{0 E} \\gamma_{E 0}^{2} \\gamma_{I 0}^{2} q_{E} \\tau_{E} \\tau_{M}^{2} + 4.0 \\alpha_{0 E} \\gamma_{E 0}^{2} \\gamma_{I 0}^{2} q_{E} \\tau_{I} \\tau_{M}^{2} + 4.0 \\alpha_{0 E} \\gamma_{E 0}^{2} \\gamma_{I 0}^{2} q_{E} \\tau_{M}^{3} - 2.0 \\alpha_{0 E} \\gamma_{E 0}^{2} \\nu_{E} \\tau_{E} \\tau_{I} - 2.0 \\alpha_{0 E} \\gamma_{E 0}^{2} \\nu_{E} \\tau_{E} \\tau_{M} - 2.0 \\alpha_{0 E} \\gamma_{E 0}^{2} \\nu_{E} \\tau_{I} \\tau_{M} - 2.0 \\alpha_{0 E} \\gamma_{E 0}^{2} \\nu_{E} \\tau_{M}^{2} + 4.0 \\alpha_{0 I} \\gamma_{E 0}^{2} \\gamma_{I 0}^{2} q_{E} \\tau_{E}^{2} \\tau_{I} + 4.0 \\alpha_{0 I} \\gamma_{E 0}^{2} \\gamma_{I 0}^{2} q_{E} \\tau_{E}^{2} \\tau_{M} + 8.0 \\alpha_{0 I} \\gamma_{E 0}^{2} \\gamma_{I 0}^{2} q_{E} \\tau_{E} \\tau_{I} \\tau_{M} + 8.0 \\alpha_{0 I} \\gamma_{E 0}^{2} \\gamma_{I 0}^{2} q_{E} \\tau_{E} \\tau_{M}^{2} + 4.0 \\alpha_{0 I} \\gamma_{E 0}^{2} \\gamma_{I 0}^{2} q_{E} \\tau_{I} \\tau_{M}^{2} + 4.0 \\alpha_{0 I} \\gamma_{E 0}^{2} \\gamma_{I 0}^{2} q_{E} \\tau_{M}^{3} - 2.0 \\alpha_{0 I} \\gamma_{I 0}^{2} \\nu_{E} \\tau_{E} \\tau_{I} - 2.0 \\alpha_{0 I} \\gamma_{I 0}^{2} \\nu_{E} \\tau_{E} \\tau_{M} - 2.0 \\alpha_{0 I} \\gamma_{I 0}^{2} \\nu_{E} \\tau_{I} \\tau_{M} - 2.0 \\alpha_{0 I} \\gamma_{I 0}^{2} \\nu_{E} \\tau_{M}^{2}\\right)}{\\left(\\tau_{E} + \\tau_{M}\\right) \\left(4.0 J_{0}^{2} \\gamma_{E 0}^{2} \\gamma_{I 0}^{2} q_{E} q_{I} \\tau_{E} \\tau_{I}^{2} \\tau_{M}^{2} + 8.0 J_{0}^{2} \\gamma_{E 0}^{2} \\gamma_{I 0}^{2} q_{E} q_{I} \\tau_{E} \\tau_{I} \\tau_{M}^{3} + 4.0 J_{0}^{2} \\gamma_{E 0}^{2} \\gamma_{I 0}^{2} q_{E} q_{I} \\tau_{E} \\tau_{M}^{4} + 4.0 J_{0}^{2} \\gamma_{E 0}^{2} \\gamma_{I 0}^{2} q_{E} q_{I} \\tau_{I}^{2} \\tau_{M}^{3} + 8.0 J_{0}^{2} \\gamma_{E 0}^{2} \\gamma_{I 0}^{2} q_{E} q_{I} \\tau_{I} \\tau_{M}^{4} + 4.0 J_{0}^{2} \\gamma_{E 0}^{2} \\gamma_{I 0}^{2} q_{E} q_{I} \\tau_{M}^{5} + 4.0 J_{0}^{2} \\gamma_{E 0}^{2} \\gamma_{I 0}^{2} q_{I}^{2} \\tau_{E} \\tau_{I}^{2} \\tau_{M}^{2} + 8.0 J_{0}^{2} \\gamma_{E 0}^{2} \\gamma_{I 0}^{2} q_{I}^{2} \\tau_{E} \\tau_{I} \\tau_{M}^{3} + 4.0 J_{0}^{2} \\gamma_{E 0}^{2} \\gamma_{I 0}^{2} q_{I}^{2} \\tau_{E} \\tau_{M}^{4} + 4.0 J_{0}^{2} \\gamma_{E 0}^{2} \\gamma_{I 0}^{2} q_{I}^{2} \\tau_{I}^{2} \\tau_{M}^{3} + 8.0 J_{0}^{2} \\gamma_{E 0}^{2} \\gamma_{I 0}^{2} q_{I}^{2} \\tau_{I} \\tau_{M}^{4} + 4.0 J_{0}^{2} \\gamma_{E 0}^{2} \\gamma_{I 0}^{2} q_{I}^{2} \\tau_{M}^{5} - 2.0 J_{0}^{2} \\gamma_{E 0}^{2} \\nu_{I} q_{E} \\tau_{E} \\tau_{I} \\tau_{M}^{2} - 2.0 J_{0}^{2} \\gamma_{E 0}^{2} \\nu_{I} q_{E} \\tau_{E} \\tau_{M}^{3} - 2.0 J_{0}^{2} \\gamma_{E 0}^{2} \\nu_{I} q_{E} \\tau_{I} \\tau_{M}^{3} - 2.0 J_{0}^{2} \\gamma_{E 0}^{2} \\nu_{I} q_{E} \\tau_{M}^{4} - 2.0 J_{0}^{2} \\gamma_{E 0}^{2} \\nu_{I} q_{I} \\tau_{E} \\tau_{I} \\tau_{M}^{2} - 2.0 J_{0}^{2} \\gamma_{E 0}^{2} \\nu_{I} q_{I} \\tau_{E} \\tau_{M}^{3} - 2.0 J_{0}^{2} \\gamma_{E 0}^{2} \\nu_{I} q_{I} \\tau_{I} \\tau_{M}^{3} - 2.0 J_{0}^{2} \\gamma_{E 0}^{2} \\nu_{I} q_{I} \\tau_{M}^{4} - 2.0 J_{0}^{2} \\gamma_{I 0}^{2} \\nu_{E} q_{I} \\tau_{I}^{2} \\tau_{M}^{2} - 4.0 J_{0}^{2} \\gamma_{I 0}^{2} \\nu_{E} q_{I} \\tau_{I} \\tau_{M}^{3} - 2.0 J_{0}^{2} \\gamma_{I 0}^{2} \\nu_{E} q_{I} \\tau_{M}^{4} - 2.0 J_{0}^{2} \\gamma_{I 0}^{2} \\nu_{I} q_{I} \\tau_{E} \\tau_{I} \\tau_{M}^{2} - 2.0 J_{0}^{2} \\gamma_{I 0}^{2} \\nu_{I} q_{I} \\tau_{E} \\tau_{M}^{3} - 2.0 J_{0}^{2} \\gamma_{I 0}^{2} \\nu_{I} q_{I} \\tau_{I} \\tau_{M}^{3} - 2.0 J_{0}^{2} \\gamma_{I 0}^{2} \\nu_{I} q_{I} \\tau_{M}^{4} + J_{0}^{2} \\nu_{E} \\nu_{I} \\tau_{I} \\tau_{M}^{2} + J_{0}^{2} \\nu_{E} \\nu_{I} \\tau_{M}^{3} + J_{0}^{2} \\nu_{I}^{2} \\tau_{E} \\tau_{M}^{2} + J_{0}^{2} \\nu_{I}^{2} \\tau_{M}^{3} + 4.0 \\alpha_{0 E} \\gamma_{E 0}^{2} \\gamma_{I 0}^{2} q_{I} \\tau_{E} \\tau_{I}^{2} + 8.0 \\alpha_{0 E} \\gamma_{E 0}^{2} \\gamma_{I 0}^{2} q_{I} \\tau_{E} \\tau_{I} \\tau_{M} + 4.0 \\alpha_{0 E} \\gamma_{E 0}^{2} \\gamma_{I 0}^{2} q_{I} \\tau_{E} \\tau_{M}^{2} + 4.0 \\alpha_{0 E} \\gamma_{E 0}^{2} \\gamma_{I 0}^{2} q_{I} \\tau_{I}^{2} \\tau_{M} + 8.0 \\alpha_{0 E} \\gamma_{E 0}^{2} \\gamma_{I 0}^{2} q_{I} \\tau_{I} \\tau_{M}^{2} + 4.0 \\alpha_{0 E} \\gamma_{E 0}^{2} \\gamma_{I 0}^{2} q_{I} \\tau_{M}^{3} - 2.0 \\alpha_{0 E} \\gamma_{E 0}^{2} \\nu_{I} \\tau_{E} \\tau_{I} - 2.0 \\alpha_{0 E} \\gamma_{E 0}^{2} \\nu_{I} \\tau_{E} \\tau_{M} - 2.0 \\alpha_{0 E} \\gamma_{E 0}^{2} \\nu_{I} \\tau_{I} \\tau_{M} - 2.0 \\alpha_{0 E} \\gamma_{E 0}^{2} \\nu_{I} \\tau_{M}^{2} + 4.0 \\alpha_{0 I} \\gamma_{E 0}^{2} \\gamma_{I 0}^{2} q_{I} \\tau_{E} \\tau_{I}^{2} + 8.0 \\alpha_{0 I} \\gamma_{E 0}^{2} \\gamma_{I 0}^{2} q_{I} \\tau_{E} \\tau_{I} \\tau_{M} + 4.0 \\alpha_{0 I} \\gamma_{E 0}^{2} \\gamma_{I 0}^{2} q_{I} \\tau_{E} \\tau_{M}^{2} + 4.0 \\alpha_{0 I} \\gamma_{E 0}^{2} \\gamma_{I 0}^{2} q_{I} \\tau_{I}^{2} \\tau_{M} + 8.0 \\alpha_{0 I} \\gamma_{E 0}^{2} \\gamma_{I 0}^{2} q_{I} \\tau_{I} \\tau_{M}^{2} + 4.0 \\alpha_{0 I} \\gamma_{E 0}^{2} \\gamma_{I 0}^{2} q_{I} \\tau_{M}^{3} - 2.0 \\alpha_{0 I} \\gamma_{I 0}^{2} \\nu_{I} \\tau_{E} \\tau_{I} - 2.0 \\alpha_{0 I} \\gamma_{I 0}^{2} \\nu_{I} \\tau_{E} \\tau_{M} - 2.0 \\alpha_{0 I} \\gamma_{I 0}^{2} \\nu_{I} \\tau_{I} \\tau_{M} - 2.0 \\alpha_{0 I} \\gamma_{I 0}^{2} \\nu_{I} \\tau_{M}^{2}\\right)}}\\right), \\  \\left( - \\frac{0.707106781186548 \\sqrt{\\frac{4.0 J_{0}^{2} \\gamma_{E 0}^{2} \\gamma_{I 0}^{2} q_{E} q_{I} \\tau_{E} \\tau_{I}^{2} \\tau_{M}^{2} + 8.0 J_{0}^{2} \\gamma_{E 0}^{2} \\gamma_{I 0}^{2} q_{E} q_{I} \\tau_{E} \\tau_{I} \\tau_{M}^{3} + 4.0 J_{0}^{2} \\gamma_{E 0}^{2} \\gamma_{I 0}^{2} q_{E} q_{I} \\tau_{E} \\tau_{M}^{4} + 4.0 J_{0}^{2} \\gamma_{E 0}^{2} \\gamma_{I 0}^{2} q_{E} q_{I} \\tau_{I}^{2} \\tau_{M}^{3} + 8.0 J_{0}^{2} \\gamma_{E 0}^{2} \\gamma_{I 0}^{2} q_{E} q_{I} \\tau_{I} \\tau_{M}^{4} + 4.0 J_{0}^{2} \\gamma_{E 0}^{2} \\gamma_{I 0}^{2} q_{E} q_{I} \\tau_{M}^{5} + 4.0 J_{0}^{2} \\gamma_{E 0}^{2} \\gamma_{I 0}^{2} q_{I}^{2} \\tau_{E} \\tau_{I}^{2} \\tau_{M}^{2} + 8.0 J_{0}^{2} \\gamma_{E 0}^{2} \\gamma_{I 0}^{2} q_{I}^{2} \\tau_{E} \\tau_{I} \\tau_{M}^{3} + 4.0 J_{0}^{2} \\gamma_{E 0}^{2} \\gamma_{I 0}^{2} q_{I}^{2} \\tau_{E} \\tau_{M}^{4} + 4.0 J_{0}^{2} \\gamma_{E 0}^{2} \\gamma_{I 0}^{2} q_{I}^{2} \\tau_{I}^{2} \\tau_{M}^{3} + 8.0 J_{0}^{2} \\gamma_{E 0}^{2} \\gamma_{I 0}^{2} q_{I}^{2} \\tau_{I} \\tau_{M}^{4} + 4.0 J_{0}^{2} \\gamma_{E 0}^{2} \\gamma_{I 0}^{2} q_{I}^{2} \\tau_{M}^{5} - 2.0 J_{0}^{2} \\gamma_{E 0}^{2} \\nu_{I} q_{E} \\tau_{E} \\tau_{I} \\tau_{M}^{2} - 2.0 J_{0}^{2} \\gamma_{E 0}^{2} \\nu_{I} q_{E} \\tau_{E} \\tau_{M}^{3} - 2.0 J_{0}^{2} \\gamma_{E 0}^{2} \\nu_{I} q_{E} \\tau_{I} \\tau_{M}^{3} - 2.0 J_{0}^{2} \\gamma_{E 0}^{2} \\nu_{I} q_{E} \\tau_{M}^{4} - 2.0 J_{0}^{2} \\gamma_{E 0}^{2} \\nu_{I} q_{I} \\tau_{E} \\tau_{I} \\tau_{M}^{2} - 2.0 J_{0}^{2} \\gamma_{E 0}^{2} \\nu_{I} q_{I} \\tau_{E} \\tau_{M}^{3} - 2.0 J_{0}^{2} \\gamma_{E 0}^{2} \\nu_{I} q_{I} \\tau_{I} \\tau_{M}^{3} - 2.0 J_{0}^{2} \\gamma_{E 0}^{2} \\nu_{I} q_{I} \\tau_{M}^{4} - 2.0 J_{0}^{2} \\gamma_{I 0}^{2} \\nu_{E} q_{I} \\tau_{I}^{2} \\tau_{M}^{2} - 4.0 J_{0}^{2} \\gamma_{I 0}^{2} \\nu_{E} q_{I} \\tau_{I} \\tau_{M}^{3} - 2.0 J_{0}^{2} \\gamma_{I 0}^{2} \\nu_{E} q_{I} \\tau_{M}^{4} - 2.0 J_{0}^{2} \\gamma_{I 0}^{2} \\nu_{I} q_{I} \\tau_{E} \\tau_{I} \\tau_{M}^{2} - 2.0 J_{0}^{2} \\gamma_{I 0}^{2} \\nu_{I} q_{I} \\tau_{E} \\tau_{M}^{3} - 2.0 J_{0}^{2} \\gamma_{I 0}^{2} \\nu_{I} q_{I} \\tau_{I} \\tau_{M}^{3} - 2.0 J_{0}^{2} \\gamma_{I 0}^{2} \\nu_{I} q_{I} \\tau_{M}^{4} + J_{0}^{2} \\nu_{E} \\nu_{I} \\tau_{I} \\tau_{M}^{2} + J_{0}^{2} \\nu_{E} \\nu_{I} \\tau_{M}^{3} + J_{0}^{2} \\nu_{I}^{2} \\tau_{E} \\tau_{M}^{2} + J_{0}^{2} \\nu_{I}^{2} \\tau_{M}^{3} + 4.0 \\alpha_{0 E} \\gamma_{E 0}^{2} \\gamma_{I 0}^{2} q_{I} \\tau_{E} \\tau_{I}^{2} + 8.0 \\alpha_{0 E} \\gamma_{E 0}^{2} \\gamma_{I 0}^{2} q_{I} \\tau_{E} \\tau_{I} \\tau_{M} + 4.0 \\alpha_{0 E} \\gamma_{E 0}^{2} \\gamma_{I 0}^{2} q_{I} \\tau_{E} \\tau_{M}^{2} + 4.0 \\alpha_{0 E} \\gamma_{E 0}^{2} \\gamma_{I 0}^{2} q_{I} \\tau_{I}^{2} \\tau_{M} + 8.0 \\alpha_{0 E} \\gamma_{E 0}^{2} \\gamma_{I 0}^{2} q_{I} \\tau_{I} \\tau_{M}^{2} + 4.0 \\alpha_{0 E} \\gamma_{E 0}^{2} \\gamma_{I 0}^{2} q_{I} \\tau_{M}^{3} - 2.0 \\alpha_{0 E} \\gamma_{E 0}^{2} \\nu_{I} \\tau_{E} \\tau_{I} - 2.0 \\alpha_{0 E} \\gamma_{E 0}^{2} \\nu_{I} \\tau_{E} \\tau_{M} - 2.0 \\alpha_{0 E} \\gamma_{E 0}^{2} \\nu_{I} \\tau_{I} \\tau_{M} - 2.0 \\alpha_{0 E} \\gamma_{E 0}^{2} \\nu_{I} \\tau_{M}^{2} + 4.0 \\alpha_{0 I} \\gamma_{E 0}^{2} \\gamma_{I 0}^{2} q_{I} \\tau_{E} \\tau_{I}^{2} + 8.0 \\alpha_{0 I} \\gamma_{E 0}^{2} \\gamma_{I 0}^{2} q_{I} \\tau_{E} \\tau_{I} \\tau_{M} + 4.0 \\alpha_{0 I} \\gamma_{E 0}^{2} \\gamma_{I 0}^{2} q_{I} \\tau_{E} \\tau_{M}^{2} + 4.0 \\alpha_{0 I} \\gamma_{E 0}^{2} \\gamma_{I 0}^{2} q_{I} \\tau_{I}^{2} \\tau_{M} + 8.0 \\alpha_{0 I} \\gamma_{E 0}^{2} \\gamma_{I 0}^{2} q_{I} \\tau_{I} \\tau_{M}^{2} + 4.0 \\alpha_{0 I} \\gamma_{E 0}^{2} \\gamma_{I 0}^{2} q_{I} \\tau_{M}^{3} - 2.0 \\alpha_{0 I} \\gamma_{I 0}^{2} \\nu_{I} \\tau_{E} \\tau_{I} - 2.0 \\alpha_{0 I} \\gamma_{I 0}^{2} \\nu_{I} \\tau_{E} \\tau_{M} - 2.0 \\alpha_{0 I} \\gamma_{I 0}^{2} \\nu_{I} \\tau_{I} \\tau_{M} - 2.0 \\alpha_{0 I} \\gamma_{I 0}^{2} \\nu_{I} \\tau_{M}^{2}}{\\left(\\gamma_{E 0} - \\gamma_{I 0}\\right) \\left(\\gamma_{E 0} + \\gamma_{I 0}\\right) \\left(\\tau_{I} + \\tau_{M}\\right) \\left(\\nu_{E} q_{I} \\tau_{I} + \\nu_{E} q_{I} \\tau_{M} - \\nu_{I} q_{E} \\tau_{E} - \\nu_{I} q_{E} \\tau_{M}\\right)}}}{J_{0} \\tau_{M}}, \\  \\sqrt{- \\frac{\\left(\\tau_{I} + \\tau_{M}\\right) \\left(4.0 J_{0}^{2} \\gamma_{E 0}^{2} \\gamma_{I 0}^{2} q_{E}^{2} \\tau_{E}^{2} \\tau_{I} \\tau_{M}^{2} + 4.0 J_{0}^{2} \\gamma_{E 0}^{2} \\gamma_{I 0}^{2} q_{E}^{2} \\tau_{E}^{2} \\tau_{M}^{3} + 8.0 J_{0}^{2} \\gamma_{E 0}^{2} \\gamma_{I 0}^{2} q_{E}^{2} \\tau_{E} \\tau_{I} \\tau_{M}^{3} + 8.0 J_{0}^{2} \\gamma_{E 0}^{2} \\gamma_{I 0}^{2} q_{E}^{2} \\tau_{E} \\tau_{M}^{4} + 4.0 J_{0}^{2} \\gamma_{E 0}^{2} \\gamma_{I 0}^{2} q_{E}^{2} \\tau_{I} \\tau_{M}^{4} + 4.0 J_{0}^{2} \\gamma_{E 0}^{2} \\gamma_{I 0}^{2} q_{E}^{2} \\tau_{M}^{5} + 4.0 J_{0}^{2} \\gamma_{E 0}^{2} \\gamma_{I 0}^{2} q_{E} q_{I} \\tau_{E}^{2} \\tau_{I} \\tau_{M}^{2} + 4.0 J_{0}^{2} \\gamma_{E 0}^{2} \\gamma_{I 0}^{2} q_{E} q_{I} \\tau_{E}^{2} \\tau_{M}^{3} + 8.0 J_{0}^{2} \\gamma_{E 0}^{2} \\gamma_{I 0}^{2} q_{E} q_{I} \\tau_{E} \\tau_{I} \\tau_{M}^{3} + 8.0 J_{0}^{2} \\gamma_{E 0}^{2} \\gamma_{I 0}^{2} q_{E} q_{I} \\tau_{E} \\tau_{M}^{4} + 4.0 J_{0}^{2} \\gamma_{E 0}^{2} \\gamma_{I 0}^{2} q_{E} q_{I} \\tau_{I} \\tau_{M}^{4} + 4.0 J_{0}^{2} \\gamma_{E 0}^{2} \\gamma_{I 0}^{2} q_{E} q_{I} \\tau_{M}^{5} - 2.0 J_{0}^{2} \\gamma_{E 0}^{2} \\nu_{E} q_{E} \\tau_{E} \\tau_{I} \\tau_{M}^{2} - 2.0 J_{0}^{2} \\gamma_{E 0}^{2} \\nu_{E} q_{E} \\tau_{E} \\tau_{M}^{3} - 2.0 J_{0}^{2} \\gamma_{E 0}^{2} \\nu_{E} q_{E} \\tau_{I} \\tau_{M}^{3} - 2.0 J_{0}^{2} \\gamma_{E 0}^{2} \\nu_{E} q_{E} \\tau_{M}^{4} - 2.0 J_{0}^{2} \\gamma_{E 0}^{2} \\nu_{E} q_{I} \\tau_{E} \\tau_{I} \\tau_{M}^{2} - 2.0 J_{0}^{2} \\gamma_{E 0}^{2} \\nu_{E} q_{I} \\tau_{E} \\tau_{M}^{3} - 2.0 J_{0}^{2} \\gamma_{E 0}^{2} \\nu_{E} q_{I} \\tau_{I} \\tau_{M}^{3} - 2.0 J_{0}^{2} \\gamma_{E 0}^{2} \\nu_{E} q_{I} \\tau_{M}^{4} - 2.0 J_{0}^{2} \\gamma_{I 0}^{2} \\nu_{E} q_{E} \\tau_{E} \\tau_{I} \\tau_{M}^{2} - 2.0 J_{0}^{2} \\gamma_{I 0}^{2} \\nu_{E} q_{E} \\tau_{E} \\tau_{M}^{3} - 2.0 J_{0}^{2} \\gamma_{I 0}^{2} \\nu_{E} q_{E} \\tau_{I} \\tau_{M}^{3} - 2.0 J_{0}^{2} \\gamma_{I 0}^{2} \\nu_{E} q_{E} \\tau_{M}^{4} - 2.0 J_{0}^{2} \\gamma_{I 0}^{2} \\nu_{I} q_{E} \\tau_{E}^{2} \\tau_{M}^{2} - 4.0 J_{0}^{2} \\gamma_{I 0}^{2} \\nu_{I} q_{E} \\tau_{E} \\tau_{M}^{3} - 2.0 J_{0}^{2} \\gamma_{I 0}^{2} \\nu_{I} q_{E} \\tau_{M}^{4} + J_{0}^{2} \\nu_{E}^{2} \\tau_{I} \\tau_{M}^{2} + J_{0}^{2} \\nu_{E}^{2} \\tau_{M}^{3} + J_{0}^{2} \\nu_{E} \\nu_{I} \\tau_{E} \\tau_{M}^{2} + J_{0}^{2} \\nu_{E} \\nu_{I} \\tau_{M}^{3} + 4.0 \\alpha_{0 E} \\gamma_{E 0}^{2} \\gamma_{I 0}^{2} q_{E} \\tau_{E}^{2} \\tau_{I} + 4.0 \\alpha_{0 E} \\gamma_{E 0}^{2} \\gamma_{I 0}^{2} q_{E} \\tau_{E}^{2} \\tau_{M} + 8.0 \\alpha_{0 E} \\gamma_{E 0}^{2} \\gamma_{I 0}^{2} q_{E} \\tau_{E} \\tau_{I} \\tau_{M} + 8.0 \\alpha_{0 E} \\gamma_{E 0}^{2} \\gamma_{I 0}^{2} q_{E} \\tau_{E} \\tau_{M}^{2} + 4.0 \\alpha_{0 E} \\gamma_{E 0}^{2} \\gamma_{I 0}^{2} q_{E} \\tau_{I} \\tau_{M}^{2} + 4.0 \\alpha_{0 E} \\gamma_{E 0}^{2} \\gamma_{I 0}^{2} q_{E} \\tau_{M}^{3} - 2.0 \\alpha_{0 E} \\gamma_{E 0}^{2} \\nu_{E} \\tau_{E} \\tau_{I} - 2.0 \\alpha_{0 E} \\gamma_{E 0}^{2} \\nu_{E} \\tau_{E} \\tau_{M} - 2.0 \\alpha_{0 E} \\gamma_{E 0}^{2} \\nu_{E} \\tau_{I} \\tau_{M} - 2.0 \\alpha_{0 E} \\gamma_{E 0}^{2} \\nu_{E} \\tau_{M}^{2} + 4.0 \\alpha_{0 I} \\gamma_{E 0}^{2} \\gamma_{I 0}^{2} q_{E} \\tau_{E}^{2} \\tau_{I} + 4.0 \\alpha_{0 I} \\gamma_{E 0}^{2} \\gamma_{I 0}^{2} q_{E} \\tau_{E}^{2} \\tau_{M} + 8.0 \\alpha_{0 I} \\gamma_{E 0}^{2} \\gamma_{I 0}^{2} q_{E} \\tau_{E} \\tau_{I} \\tau_{M} + 8.0 \\alpha_{0 I} \\gamma_{E 0}^{2} \\gamma_{I 0}^{2} q_{E} \\tau_{E} \\tau_{M}^{2} + 4.0 \\alpha_{0 I} \\gamma_{E 0}^{2} \\gamma_{I 0}^{2} q_{E} \\tau_{I} \\tau_{M}^{2} + 4.0 \\alpha_{0 I} \\gamma_{E 0}^{2} \\gamma_{I 0}^{2} q_{E} \\tau_{M}^{3} - 2.0 \\alpha_{0 I} \\gamma_{I 0}^{2} \\nu_{E} \\tau_{E} \\tau_{I} - 2.0 \\alpha_{0 I} \\gamma_{I 0}^{2} \\nu_{E} \\tau_{E} \\tau_{M} - 2.0 \\alpha_{0 I} \\gamma_{I 0}^{2} \\nu_{E} \\tau_{I} \\tau_{M} - 2.0 \\alpha_{0 I} \\gamma_{I 0}^{2} \\nu_{E} \\tau_{M}^{2}\\right)}{\\left(\\tau_{E} + \\tau_{M}\\right) \\left(4.0 J_{0}^{2} \\gamma_{E 0}^{2} \\gamma_{I 0}^{2} q_{E} q_{I} \\tau_{E} \\tau_{I}^{2} \\tau_{M}^{2} + 8.0 J_{0}^{2} \\gamma_{E 0}^{2} \\gamma_{I 0}^{2} q_{E} q_{I} \\tau_{E} \\tau_{I} \\tau_{M}^{3} + 4.0 J_{0}^{2} \\gamma_{E 0}^{2} \\gamma_{I 0}^{2} q_{E} q_{I} \\tau_{E} \\tau_{M}^{4} + 4.0 J_{0}^{2} \\gamma_{E 0}^{2} \\gamma_{I 0}^{2} q_{E} q_{I} \\tau_{I}^{2} \\tau_{M}^{3} + 8.0 J_{0}^{2} \\gamma_{E 0}^{2} \\gamma_{I 0}^{2} q_{E} q_{I} \\tau_{I} \\tau_{M}^{4} + 4.0 J_{0}^{2} \\gamma_{E 0}^{2} \\gamma_{I 0}^{2} q_{E} q_{I} \\tau_{M}^{5} + 4.0 J_{0}^{2} \\gamma_{E 0}^{2} \\gamma_{I 0}^{2} q_{I}^{2} \\tau_{E} \\tau_{I}^{2} \\tau_{M}^{2} + 8.0 J_{0}^{2} \\gamma_{E 0}^{2} \\gamma_{I 0}^{2} q_{I}^{2} \\tau_{E} \\tau_{I} \\tau_{M}^{3} + 4.0 J_{0}^{2} \\gamma_{E 0}^{2} \\gamma_{I 0}^{2} q_{I}^{2} \\tau_{E} \\tau_{M}^{4} + 4.0 J_{0}^{2} \\gamma_{E 0}^{2} \\gamma_{I 0}^{2} q_{I}^{2} \\tau_{I}^{2} \\tau_{M}^{3} + 8.0 J_{0}^{2} \\gamma_{E 0}^{2} \\gamma_{I 0}^{2} q_{I}^{2} \\tau_{I} \\tau_{M}^{4} + 4.0 J_{0}^{2} \\gamma_{E 0}^{2} \\gamma_{I 0}^{2} q_{I}^{2} \\tau_{M}^{5} - 2.0 J_{0}^{2} \\gamma_{E 0}^{2} \\nu_{I} q_{E} \\tau_{E} \\tau_{I} \\tau_{M}^{2} - 2.0 J_{0}^{2} \\gamma_{E 0}^{2} \\nu_{I} q_{E} \\tau_{E} \\tau_{M}^{3} - 2.0 J_{0}^{2} \\gamma_{E 0}^{2} \\nu_{I} q_{E} \\tau_{I} \\tau_{M}^{3} - 2.0 J_{0}^{2} \\gamma_{E 0}^{2} \\nu_{I} q_{E} \\tau_{M}^{4} - 2.0 J_{0}^{2} \\gamma_{E 0}^{2} \\nu_{I} q_{I} \\tau_{E} \\tau_{I} \\tau_{M}^{2} - 2.0 J_{0}^{2} \\gamma_{E 0}^{2} \\nu_{I} q_{I} \\tau_{E} \\tau_{M}^{3} - 2.0 J_{0}^{2} \\gamma_{E 0}^{2} \\nu_{I} q_{I} \\tau_{I} \\tau_{M}^{3} - 2.0 J_{0}^{2} \\gamma_{E 0}^{2} \\nu_{I} q_{I} \\tau_{M}^{4} - 2.0 J_{0}^{2} \\gamma_{I 0}^{2} \\nu_{E} q_{I} \\tau_{I}^{2} \\tau_{M}^{2} - 4.0 J_{0}^{2} \\gamma_{I 0}^{2} \\nu_{E} q_{I} \\tau_{I} \\tau_{M}^{3} - 2.0 J_{0}^{2} \\gamma_{I 0}^{2} \\nu_{E} q_{I} \\tau_{M}^{4} - 2.0 J_{0}^{2} \\gamma_{I 0}^{2} \\nu_{I} q_{I} \\tau_{E} \\tau_{I} \\tau_{M}^{2} - 2.0 J_{0}^{2} \\gamma_{I 0}^{2} \\nu_{I} q_{I} \\tau_{E} \\tau_{M}^{3} - 2.0 J_{0}^{2} \\gamma_{I 0}^{2} \\nu_{I} q_{I} \\tau_{I} \\tau_{M}^{3} - 2.0 J_{0}^{2} \\gamma_{I 0}^{2} \\nu_{I} q_{I} \\tau_{M}^{4} + J_{0}^{2} \\nu_{E} \\nu_{I} \\tau_{I} \\tau_{M}^{2} + J_{0}^{2} \\nu_{E} \\nu_{I} \\tau_{M}^{3} + J_{0}^{2} \\nu_{I}^{2} \\tau_{E} \\tau_{M}^{2} + J_{0}^{2} \\nu_{I}^{2} \\tau_{M}^{3} + 4.0 \\alpha_{0 E} \\gamma_{E 0}^{2} \\gamma_{I 0}^{2} q_{I} \\tau_{E} \\tau_{I}^{2} + 8.0 \\alpha_{0 E} \\gamma_{E 0}^{2} \\gamma_{I 0}^{2} q_{I} \\tau_{E} \\tau_{I} \\tau_{M} + 4.0 \\alpha_{0 E} \\gamma_{E 0}^{2} \\gamma_{I 0}^{2} q_{I} \\tau_{E} \\tau_{M}^{2} + 4.0 \\alpha_{0 E} \\gamma_{E 0}^{2} \\gamma_{I 0}^{2} q_{I} \\tau_{I}^{2} \\tau_{M} + 8.0 \\alpha_{0 E} \\gamma_{E 0}^{2} \\gamma_{I 0}^{2} q_{I} \\tau_{I} \\tau_{M}^{2} + 4.0 \\alpha_{0 E} \\gamma_{E 0}^{2} \\gamma_{I 0}^{2} q_{I} \\tau_{M}^{3} - 2.0 \\alpha_{0 E} \\gamma_{E 0}^{2} \\nu_{I} \\tau_{E} \\tau_{I} - 2.0 \\alpha_{0 E} \\gamma_{E 0}^{2} \\nu_{I} \\tau_{E} \\tau_{M} - 2.0 \\alpha_{0 E} \\gamma_{E 0}^{2} \\nu_{I} \\tau_{I} \\tau_{M} - 2.0 \\alpha_{0 E} \\gamma_{E 0}^{2} \\nu_{I} \\tau_{M}^{2} + 4.0 \\alpha_{0 I} \\gamma_{E 0}^{2} \\gamma_{I 0}^{2} q_{I} \\tau_{E} \\tau_{I}^{2} + 8.0 \\alpha_{0 I} \\gamma_{E 0}^{2} \\gamma_{I 0}^{2} q_{I} \\tau_{E} \\tau_{I} \\tau_{M} + 4.0 \\alpha_{0 I} \\gamma_{E 0}^{2} \\gamma_{I 0}^{2} q_{I} \\tau_{E} \\tau_{M}^{2} + 4.0 \\alpha_{0 I} \\gamma_{E 0}^{2} \\gamma_{I 0}^{2} q_{I} \\tau_{I}^{2} \\tau_{M} + 8.0 \\alpha_{0 I} \\gamma_{E 0}^{2} \\gamma_{I 0}^{2} q_{I} \\tau_{I} \\tau_{M}^{2} + 4.0 \\alpha_{0 I} \\gamma_{E 0}^{2} \\gamma_{I 0}^{2} q_{I} \\tau_{M}^{3} - 2.0 \\alpha_{0 I} \\gamma_{I 0}^{2} \\nu_{I} \\tau_{E} \\tau_{I} - 2.0 \\alpha_{0 I} \\gamma_{I 0}^{2} \\nu_{I} \\tau_{E} \\tau_{M} - 2.0 \\alpha_{0 I} \\gamma_{I 0}^{2} \\nu_{I} \\tau_{I} \\tau_{M} - 2.0 \\alpha_{0 I} \\gamma_{I 0}^{2} \\nu_{I} \\tau_{M}^{2}\\right)}}\\right), \\  \\left( \\frac{0.707106781186548 \\sqrt{\\frac{4.0 J_{0}^{2} \\gamma_{E 0}^{2} \\gamma_{I 0}^{2} q_{E} q_{I} \\tau_{E} \\tau_{I}^{2} \\tau_{M}^{2} + 8.0 J_{0}^{2} \\gamma_{E 0}^{2} \\gamma_{I 0}^{2} q_{E} q_{I} \\tau_{E} \\tau_{I} \\tau_{M}^{3} + 4.0 J_{0}^{2} \\gamma_{E 0}^{2} \\gamma_{I 0}^{2} q_{E} q_{I} \\tau_{E} \\tau_{M}^{4} + 4.0 J_{0}^{2} \\gamma_{E 0}^{2} \\gamma_{I 0}^{2} q_{E} q_{I} \\tau_{I}^{2} \\tau_{M}^{3} + 8.0 J_{0}^{2} \\gamma_{E 0}^{2} \\gamma_{I 0}^{2} q_{E} q_{I} \\tau_{I} \\tau_{M}^{4} + 4.0 J_{0}^{2} \\gamma_{E 0}^{2} \\gamma_{I 0}^{2} q_{E} q_{I} \\tau_{M}^{5} + 4.0 J_{0}^{2} \\gamma_{E 0}^{2} \\gamma_{I 0}^{2} q_{I}^{2} \\tau_{E} \\tau_{I}^{2} \\tau_{M}^{2} + 8.0 J_{0}^{2} \\gamma_{E 0}^{2} \\gamma_{I 0}^{2} q_{I}^{2} \\tau_{E} \\tau_{I} \\tau_{M}^{3} + 4.0 J_{0}^{2} \\gamma_{E 0}^{2} \\gamma_{I 0}^{2} q_{I}^{2} \\tau_{E} \\tau_{M}^{4} + 4.0 J_{0}^{2} \\gamma_{E 0}^{2} \\gamma_{I 0}^{2} q_{I}^{2} \\tau_{I}^{2} \\tau_{M}^{3} + 8.0 J_{0}^{2} \\gamma_{E 0}^{2} \\gamma_{I 0}^{2} q_{I}^{2} \\tau_{I} \\tau_{M}^{4} + 4.0 J_{0}^{2} \\gamma_{E 0}^{2} \\gamma_{I 0}^{2} q_{I}^{2} \\tau_{M}^{5} - 2.0 J_{0}^{2} \\gamma_{E 0}^{2} \\nu_{I} q_{E} \\tau_{E} \\tau_{I} \\tau_{M}^{2} - 2.0 J_{0}^{2} \\gamma_{E 0}^{2} \\nu_{I} q_{E} \\tau_{E} \\tau_{M}^{3} - 2.0 J_{0}^{2} \\gamma_{E 0}^{2} \\nu_{I} q_{E} \\tau_{I} \\tau_{M}^{3} - 2.0 J_{0}^{2} \\gamma_{E 0}^{2} \\nu_{I} q_{E} \\tau_{M}^{4} - 2.0 J_{0}^{2} \\gamma_{E 0}^{2} \\nu_{I} q_{I} \\tau_{E} \\tau_{I} \\tau_{M}^{2} - 2.0 J_{0}^{2} \\gamma_{E 0}^{2} \\nu_{I} q_{I} \\tau_{E} \\tau_{M}^{3} - 2.0 J_{0}^{2} \\gamma_{E 0}^{2} \\nu_{I} q_{I} \\tau_{I} \\tau_{M}^{3} - 2.0 J_{0}^{2} \\gamma_{E 0}^{2} \\nu_{I} q_{I} \\tau_{M}^{4} - 2.0 J_{0}^{2} \\gamma_{I 0}^{2} \\nu_{E} q_{I} \\tau_{I}^{2} \\tau_{M}^{2} - 4.0 J_{0}^{2} \\gamma_{I 0}^{2} \\nu_{E} q_{I} \\tau_{I} \\tau_{M}^{3} - 2.0 J_{0}^{2} \\gamma_{I 0}^{2} \\nu_{E} q_{I} \\tau_{M}^{4} - 2.0 J_{0}^{2} \\gamma_{I 0}^{2} \\nu_{I} q_{I} \\tau_{E} \\tau_{I} \\tau_{M}^{2} - 2.0 J_{0}^{2} \\gamma_{I 0}^{2} \\nu_{I} q_{I} \\tau_{E} \\tau_{M}^{3} - 2.0 J_{0}^{2} \\gamma_{I 0}^{2} \\nu_{I} q_{I} \\tau_{I} \\tau_{M}^{3} - 2.0 J_{0}^{2} \\gamma_{I 0}^{2} \\nu_{I} q_{I} \\tau_{M}^{4} + J_{0}^{2} \\nu_{E} \\nu_{I} \\tau_{I} \\tau_{M}^{2} + J_{0}^{2} \\nu_{E} \\nu_{I} \\tau_{M}^{3} + J_{0}^{2} \\nu_{I}^{2} \\tau_{E} \\tau_{M}^{2} + J_{0}^{2} \\nu_{I}^{2} \\tau_{M}^{3} + 4.0 \\alpha_{0 E} \\gamma_{E 0}^{2} \\gamma_{I 0}^{2} q_{I} \\tau_{E} \\tau_{I}^{2} + 8.0 \\alpha_{0 E} \\gamma_{E 0}^{2} \\gamma_{I 0}^{2} q_{I} \\tau_{E} \\tau_{I} \\tau_{M} + 4.0 \\alpha_{0 E} \\gamma_{E 0}^{2} \\gamma_{I 0}^{2} q_{I} \\tau_{E} \\tau_{M}^{2} + 4.0 \\alpha_{0 E} \\gamma_{E 0}^{2} \\gamma_{I 0}^{2} q_{I} \\tau_{I}^{2} \\tau_{M} + 8.0 \\alpha_{0 E} \\gamma_{E 0}^{2} \\gamma_{I 0}^{2} q_{I} \\tau_{I} \\tau_{M}^{2} + 4.0 \\alpha_{0 E} \\gamma_{E 0}^{2} \\gamma_{I 0}^{2} q_{I} \\tau_{M}^{3} - 2.0 \\alpha_{0 E} \\gamma_{E 0}^{2} \\nu_{I} \\tau_{E} \\tau_{I} - 2.0 \\alpha_{0 E} \\gamma_{E 0}^{2} \\nu_{I} \\tau_{E} \\tau_{M} - 2.0 \\alpha_{0 E} \\gamma_{E 0}^{2} \\nu_{I} \\tau_{I} \\tau_{M} - 2.0 \\alpha_{0 E} \\gamma_{E 0}^{2} \\nu_{I} \\tau_{M}^{2} + 4.0 \\alpha_{0 I} \\gamma_{E 0}^{2} \\gamma_{I 0}^{2} q_{I} \\tau_{E} \\tau_{I}^{2} + 8.0 \\alpha_{0 I} \\gamma_{E 0}^{2} \\gamma_{I 0}^{2} q_{I} \\tau_{E} \\tau_{I} \\tau_{M} + 4.0 \\alpha_{0 I} \\gamma_{E 0}^{2} \\gamma_{I 0}^{2} q_{I} \\tau_{E} \\tau_{M}^{2} + 4.0 \\alpha_{0 I} \\gamma_{E 0}^{2} \\gamma_{I 0}^{2} q_{I} \\tau_{I}^{2} \\tau_{M} + 8.0 \\alpha_{0 I} \\gamma_{E 0}^{2} \\gamma_{I 0}^{2} q_{I} \\tau_{I} \\tau_{M}^{2} + 4.0 \\alpha_{0 I} \\gamma_{E 0}^{2} \\gamma_{I 0}^{2} q_{I} \\tau_{M}^{3} - 2.0 \\alpha_{0 I} \\gamma_{I 0}^{2} \\nu_{I} \\tau_{E} \\tau_{I} - 2.0 \\alpha_{0 I} \\gamma_{I 0}^{2} \\nu_{I} \\tau_{E} \\tau_{M} - 2.0 \\alpha_{0 I} \\gamma_{I 0}^{2} \\nu_{I} \\tau_{I} \\tau_{M} - 2.0 \\alpha_{0 I} \\gamma_{I 0}^{2} \\nu_{I} \\tau_{M}^{2}}{\\left(\\gamma_{E 0} - \\gamma_{I 0}\\right) \\left(\\gamma_{E 0} + \\gamma_{I 0}\\right) \\left(\\tau_{I} + \\tau_{M}\\right) \\left(\\nu_{E} q_{I} \\tau_{I} + \\nu_{E} q_{I} \\tau_{M} - \\nu_{I} q_{E} \\tau_{E} - \\nu_{I} q_{E} \\tau_{M}\\right)}}}{J_{0} \\tau_{M}}, \\  - \\sqrt{- \\frac{\\left(\\tau_{I} + \\tau_{M}\\right) \\left(4.0 J_{0}^{2} \\gamma_{E 0}^{2} \\gamma_{I 0}^{2} q_{E}^{2} \\tau_{E}^{2} \\tau_{I} \\tau_{M}^{2} + 4.0 J_{0}^{2} \\gamma_{E 0}^{2} \\gamma_{I 0}^{2} q_{E}^{2} \\tau_{E}^{2} \\tau_{M}^{3} + 8.0 J_{0}^{2} \\gamma_{E 0}^{2} \\gamma_{I 0}^{2} q_{E}^{2} \\tau_{E} \\tau_{I} \\tau_{M}^{3} + 8.0 J_{0}^{2} \\gamma_{E 0}^{2} \\gamma_{I 0}^{2} q_{E}^{2} \\tau_{E} \\tau_{M}^{4} + 4.0 J_{0}^{2} \\gamma_{E 0}^{2} \\gamma_{I 0}^{2} q_{E}^{2} \\tau_{I} \\tau_{M}^{4} + 4.0 J_{0}^{2} \\gamma_{E 0}^{2} \\gamma_{I 0}^{2} q_{E}^{2} \\tau_{M}^{5} + 4.0 J_{0}^{2} \\gamma_{E 0}^{2} \\gamma_{I 0}^{2} q_{E} q_{I} \\tau_{E}^{2} \\tau_{I} \\tau_{M}^{2} + 4.0 J_{0}^{2} \\gamma_{E 0}^{2} \\gamma_{I 0}^{2} q_{E} q_{I} \\tau_{E}^{2} \\tau_{M}^{3} + 8.0 J_{0}^{2} \\gamma_{E 0}^{2} \\gamma_{I 0}^{2} q_{E} q_{I} \\tau_{E} \\tau_{I} \\tau_{M}^{3} + 8.0 J_{0}^{2} \\gamma_{E 0}^{2} \\gamma_{I 0}^{2} q_{E} q_{I} \\tau_{E} \\tau_{M}^{4} + 4.0 J_{0}^{2} \\gamma_{E 0}^{2} \\gamma_{I 0}^{2} q_{E} q_{I} \\tau_{I} \\tau_{M}^{4} + 4.0 J_{0}^{2} \\gamma_{E 0}^{2} \\gamma_{I 0}^{2} q_{E} q_{I} \\tau_{M}^{5} - 2.0 J_{0}^{2} \\gamma_{E 0}^{2} \\nu_{E} q_{E} \\tau_{E} \\tau_{I} \\tau_{M}^{2} - 2.0 J_{0}^{2} \\gamma_{E 0}^{2} \\nu_{E} q_{E} \\tau_{E} \\tau_{M}^{3} - 2.0 J_{0}^{2} \\gamma_{E 0}^{2} \\nu_{E} q_{E} \\tau_{I} \\tau_{M}^{3} - 2.0 J_{0}^{2} \\gamma_{E 0}^{2} \\nu_{E} q_{E} \\tau_{M}^{4} - 2.0 J_{0}^{2} \\gamma_{E 0}^{2} \\nu_{E} q_{I} \\tau_{E} \\tau_{I} \\tau_{M}^{2} - 2.0 J_{0}^{2} \\gamma_{E 0}^{2} \\nu_{E} q_{I} \\tau_{E} \\tau_{M}^{3} - 2.0 J_{0}^{2} \\gamma_{E 0}^{2} \\nu_{E} q_{I} \\tau_{I} \\tau_{M}^{3} - 2.0 J_{0}^{2} \\gamma_{E 0}^{2} \\nu_{E} q_{I} \\tau_{M}^{4} - 2.0 J_{0}^{2} \\gamma_{I 0}^{2} \\nu_{E} q_{E} \\tau_{E} \\tau_{I} \\tau_{M}^{2} - 2.0 J_{0}^{2} \\gamma_{I 0}^{2} \\nu_{E} q_{E} \\tau_{E} \\tau_{M}^{3} - 2.0 J_{0}^{2} \\gamma_{I 0}^{2} \\nu_{E} q_{E} \\tau_{I} \\tau_{M}^{3} - 2.0 J_{0}^{2} \\gamma_{I 0}^{2} \\nu_{E} q_{E} \\tau_{M}^{4} - 2.0 J_{0}^{2} \\gamma_{I 0}^{2} \\nu_{I} q_{E} \\tau_{E}^{2} \\tau_{M}^{2} - 4.0 J_{0}^{2} \\gamma_{I 0}^{2} \\nu_{I} q_{E} \\tau_{E} \\tau_{M}^{3} - 2.0 J_{0}^{2} \\gamma_{I 0}^{2} \\nu_{I} q_{E} \\tau_{M}^{4} + J_{0}^{2} \\nu_{E}^{2} \\tau_{I} \\tau_{M}^{2} + J_{0}^{2} \\nu_{E}^{2} \\tau_{M}^{3} + J_{0}^{2} \\nu_{E} \\nu_{I} \\tau_{E} \\tau_{M}^{2} + J_{0}^{2} \\nu_{E} \\nu_{I} \\tau_{M}^{3} + 4.0 \\alpha_{0 E} \\gamma_{E 0}^{2} \\gamma_{I 0}^{2} q_{E} \\tau_{E}^{2} \\tau_{I} + 4.0 \\alpha_{0 E} \\gamma_{E 0}^{2} \\gamma_{I 0}^{2} q_{E} \\tau_{E}^{2} \\tau_{M} + 8.0 \\alpha_{0 E} \\gamma_{E 0}^{2} \\gamma_{I 0}^{2} q_{E} \\tau_{E} \\tau_{I} \\tau_{M} + 8.0 \\alpha_{0 E} \\gamma_{E 0}^{2} \\gamma_{I 0}^{2} q_{E} \\tau_{E} \\tau_{M}^{2} + 4.0 \\alpha_{0 E} \\gamma_{E 0}^{2} \\gamma_{I 0}^{2} q_{E} \\tau_{I} \\tau_{M}^{2} + 4.0 \\alpha_{0 E} \\gamma_{E 0}^{2} \\gamma_{I 0}^{2} q_{E} \\tau_{M}^{3} - 2.0 \\alpha_{0 E} \\gamma_{E 0}^{2} \\nu_{E} \\tau_{E} \\tau_{I} - 2.0 \\alpha_{0 E} \\gamma_{E 0}^{2} \\nu_{E} \\tau_{E} \\tau_{M} - 2.0 \\alpha_{0 E} \\gamma_{E 0}^{2} \\nu_{E} \\tau_{I} \\tau_{M} - 2.0 \\alpha_{0 E} \\gamma_{E 0}^{2} \\nu_{E} \\tau_{M}^{2} + 4.0 \\alpha_{0 I} \\gamma_{E 0}^{2} \\gamma_{I 0}^{2} q_{E} \\tau_{E}^{2} \\tau_{I} + 4.0 \\alpha_{0 I} \\gamma_{E 0}^{2} \\gamma_{I 0}^{2} q_{E} \\tau_{E}^{2} \\tau_{M} + 8.0 \\alpha_{0 I} \\gamma_{E 0}^{2} \\gamma_{I 0}^{2} q_{E} \\tau_{E} \\tau_{I} \\tau_{M} + 8.0 \\alpha_{0 I} \\gamma_{E 0}^{2} \\gamma_{I 0}^{2} q_{E} \\tau_{E} \\tau_{M}^{2} + 4.0 \\alpha_{0 I} \\gamma_{E 0}^{2} \\gamma_{I 0}^{2} q_{E} \\tau_{I} \\tau_{M}^{2} + 4.0 \\alpha_{0 I} \\gamma_{E 0}^{2} \\gamma_{I 0}^{2} q_{E} \\tau_{M}^{3} - 2.0 \\alpha_{0 I} \\gamma_{I 0}^{2} \\nu_{E} \\tau_{E} \\tau_{I} - 2.0 \\alpha_{0 I} \\gamma_{I 0}^{2} \\nu_{E} \\tau_{E} \\tau_{M} - 2.0 \\alpha_{0 I} \\gamma_{I 0}^{2} \\nu_{E} \\tau_{I} \\tau_{M} - 2.0 \\alpha_{0 I} \\gamma_{I 0}^{2} \\nu_{E} \\tau_{M}^{2}\\right)}{\\left(\\tau_{E} + \\tau_{M}\\right) \\left(4.0 J_{0}^{2} \\gamma_{E 0}^{2} \\gamma_{I 0}^{2} q_{E} q_{I} \\tau_{E} \\tau_{I}^{2} \\tau_{M}^{2} + 8.0 J_{0}^{2} \\gamma_{E 0}^{2} \\gamma_{I 0}^{2} q_{E} q_{I} \\tau_{E} \\tau_{I} \\tau_{M}^{3} + 4.0 J_{0}^{2} \\gamma_{E 0}^{2} \\gamma_{I 0}^{2} q_{E} q_{I} \\tau_{E} \\tau_{M}^{4} + 4.0 J_{0}^{2} \\gamma_{E 0}^{2} \\gamma_{I 0}^{2} q_{E} q_{I} \\tau_{I}^{2} \\tau_{M}^{3} + 8.0 J_{0}^{2} \\gamma_{E 0}^{2} \\gamma_{I 0}^{2} q_{E} q_{I} \\tau_{I} \\tau_{M}^{4} + 4.0 J_{0}^{2} \\gamma_{E 0}^{2} \\gamma_{I 0}^{2} q_{E} q_{I} \\tau_{M}^{5} + 4.0 J_{0}^{2} \\gamma_{E 0}^{2} \\gamma_{I 0}^{2} q_{I}^{2} \\tau_{E} \\tau_{I}^{2} \\tau_{M}^{2} + 8.0 J_{0}^{2} \\gamma_{E 0}^{2} \\gamma_{I 0}^{2} q_{I}^{2} \\tau_{E} \\tau_{I} \\tau_{M}^{3} + 4.0 J_{0}^{2} \\gamma_{E 0}^{2} \\gamma_{I 0}^{2} q_{I}^{2} \\tau_{E} \\tau_{M}^{4} + 4.0 J_{0}^{2} \\gamma_{E 0}^{2} \\gamma_{I 0}^{2} q_{I}^{2} \\tau_{I}^{2} \\tau_{M}^{3} + 8.0 J_{0}^{2} \\gamma_{E 0}^{2} \\gamma_{I 0}^{2} q_{I}^{2} \\tau_{I} \\tau_{M}^{4} + 4.0 J_{0}^{2} \\gamma_{E 0}^{2} \\gamma_{I 0}^{2} q_{I}^{2} \\tau_{M}^{5} - 2.0 J_{0}^{2} \\gamma_{E 0}^{2} \\nu_{I} q_{E} \\tau_{E} \\tau_{I} \\tau_{M}^{2} - 2.0 J_{0}^{2} \\gamma_{E 0}^{2} \\nu_{I} q_{E} \\tau_{E} \\tau_{M}^{3} - 2.0 J_{0}^{2} \\gamma_{E 0}^{2} \\nu_{I} q_{E} \\tau_{I} \\tau_{M}^{3} - 2.0 J_{0}^{2} \\gamma_{E 0}^{2} \\nu_{I} q_{E} \\tau_{M}^{4} - 2.0 J_{0}^{2} \\gamma_{E 0}^{2} \\nu_{I} q_{I} \\tau_{E} \\tau_{I} \\tau_{M}^{2} - 2.0 J_{0}^{2} \\gamma_{E 0}^{2} \\nu_{I} q_{I} \\tau_{E} \\tau_{M}^{3} - 2.0 J_{0}^{2} \\gamma_{E 0}^{2} \\nu_{I} q_{I} \\tau_{I} \\tau_{M}^{3} - 2.0 J_{0}^{2} \\gamma_{E 0}^{2} \\nu_{I} q_{I} \\tau_{M}^{4} - 2.0 J_{0}^{2} \\gamma_{I 0}^{2} \\nu_{E} q_{I} \\tau_{I}^{2} \\tau_{M}^{2} - 4.0 J_{0}^{2} \\gamma_{I 0}^{2} \\nu_{E} q_{I} \\tau_{I} \\tau_{M}^{3} - 2.0 J_{0}^{2} \\gamma_{I 0}^{2} \\nu_{E} q_{I} \\tau_{M}^{4} - 2.0 J_{0}^{2} \\gamma_{I 0}^{2} \\nu_{I} q_{I} \\tau_{E} \\tau_{I} \\tau_{M}^{2} - 2.0 J_{0}^{2} \\gamma_{I 0}^{2} \\nu_{I} q_{I} \\tau_{E} \\tau_{M}^{3} - 2.0 J_{0}^{2} \\gamma_{I 0}^{2} \\nu_{I} q_{I} \\tau_{I} \\tau_{M}^{3} - 2.0 J_{0}^{2} \\gamma_{I 0}^{2} \\nu_{I} q_{I} \\tau_{M}^{4} + J_{0}^{2} \\nu_{E} \\nu_{I} \\tau_{I} \\tau_{M}^{2} + J_{0}^{2} \\nu_{E} \\nu_{I} \\tau_{M}^{3} + J_{0}^{2} \\nu_{I}^{2} \\tau_{E} \\tau_{M}^{2} + J_{0}^{2} \\nu_{I}^{2} \\tau_{M}^{3} + 4.0 \\alpha_{0 E} \\gamma_{E 0}^{2} \\gamma_{I 0}^{2} q_{I} \\tau_{E} \\tau_{I}^{2} + 8.0 \\alpha_{0 E} \\gamma_{E 0}^{2} \\gamma_{I 0}^{2} q_{I} \\tau_{E} \\tau_{I} \\tau_{M} + 4.0 \\alpha_{0 E} \\gamma_{E 0}^{2} \\gamma_{I 0}^{2} q_{I} \\tau_{E} \\tau_{M}^{2} + 4.0 \\alpha_{0 E} \\gamma_{E 0}^{2} \\gamma_{I 0}^{2} q_{I} \\tau_{I}^{2} \\tau_{M} + 8.0 \\alpha_{0 E} \\gamma_{E 0}^{2} \\gamma_{I 0}^{2} q_{I} \\tau_{I} \\tau_{M}^{2} + 4.0 \\alpha_{0 E} \\gamma_{E 0}^{2} \\gamma_{I 0}^{2} q_{I} \\tau_{M}^{3} - 2.0 \\alpha_{0 E} \\gamma_{E 0}^{2} \\nu_{I} \\tau_{E} \\tau_{I} - 2.0 \\alpha_{0 E} \\gamma_{E 0}^{2} \\nu_{I} \\tau_{E} \\tau_{M} - 2.0 \\alpha_{0 E} \\gamma_{E 0}^{2} \\nu_{I} \\tau_{I} \\tau_{M} - 2.0 \\alpha_{0 E} \\gamma_{E 0}^{2} \\nu_{I} \\tau_{M}^{2} + 4.0 \\alpha_{0 I} \\gamma_{E 0}^{2} \\gamma_{I 0}^{2} q_{I} \\tau_{E} \\tau_{I}^{2} + 8.0 \\alpha_{0 I} \\gamma_{E 0}^{2} \\gamma_{I 0}^{2} q_{I} \\tau_{E} \\tau_{I} \\tau_{M} + 4.0 \\alpha_{0 I} \\gamma_{E 0}^{2} \\gamma_{I 0}^{2} q_{I} \\tau_{E} \\tau_{M}^{2} + 4.0 \\alpha_{0 I} \\gamma_{E 0}^{2} \\gamma_{I 0}^{2} q_{I} \\tau_{I}^{2} \\tau_{M} + 8.0 \\alpha_{0 I} \\gamma_{E 0}^{2} \\gamma_{I 0}^{2} q_{I} \\tau_{I} \\tau_{M}^{2} + 4.0 \\alpha_{0 I} \\gamma_{E 0}^{2} \\gamma_{I 0}^{2} q_{I} \\tau_{M}^{3} - 2.0 \\alpha_{0 I} \\gamma_{I 0}^{2} \\nu_{I} \\tau_{E} \\tau_{I} - 2.0 \\alpha_{0 I} \\gamma_{I 0}^{2} \\nu_{I} \\tau_{E} \\tau_{M} - 2.0 \\alpha_{0 I} \\gamma_{I 0}^{2} \\nu_{I} \\tau_{I} \\tau_{M} - 2.0 \\alpha_{0 I} \\gamma_{I 0}^{2} \\nu_{I} \\tau_{M}^{2}\\right)}}\\right), \\  \\left( \\frac{0.707106781186548 \\sqrt{\\frac{4.0 J_{0}^{2} \\gamma_{E 0}^{2} \\gamma_{I 0}^{2} q_{E} q_{I} \\tau_{E} \\tau_{I}^{2} \\tau_{M}^{2} + 8.0 J_{0}^{2} \\gamma_{E 0}^{2} \\gamma_{I 0}^{2} q_{E} q_{I} \\tau_{E} \\tau_{I} \\tau_{M}^{3} + 4.0 J_{0}^{2} \\gamma_{E 0}^{2} \\gamma_{I 0}^{2} q_{E} q_{I} \\tau_{E} \\tau_{M}^{4} + 4.0 J_{0}^{2} \\gamma_{E 0}^{2} \\gamma_{I 0}^{2} q_{E} q_{I} \\tau_{I}^{2} \\tau_{M}^{3} + 8.0 J_{0}^{2} \\gamma_{E 0}^{2} \\gamma_{I 0}^{2} q_{E} q_{I} \\tau_{I} \\tau_{M}^{4} + 4.0 J_{0}^{2} \\gamma_{E 0}^{2} \\gamma_{I 0}^{2} q_{E} q_{I} \\tau_{M}^{5} + 4.0 J_{0}^{2} \\gamma_{E 0}^{2} \\gamma_{I 0}^{2} q_{I}^{2} \\tau_{E} \\tau_{I}^{2} \\tau_{M}^{2} + 8.0 J_{0}^{2} \\gamma_{E 0}^{2} \\gamma_{I 0}^{2} q_{I}^{2} \\tau_{E} \\tau_{I} \\tau_{M}^{3} + 4.0 J_{0}^{2} \\gamma_{E 0}^{2} \\gamma_{I 0}^{2} q_{I}^{2} \\tau_{E} \\tau_{M}^{4} + 4.0 J_{0}^{2} \\gamma_{E 0}^{2} \\gamma_{I 0}^{2} q_{I}^{2} \\tau_{I}^{2} \\tau_{M}^{3} + 8.0 J_{0}^{2} \\gamma_{E 0}^{2} \\gamma_{I 0}^{2} q_{I}^{2} \\tau_{I} \\tau_{M}^{4} + 4.0 J_{0}^{2} \\gamma_{E 0}^{2} \\gamma_{I 0}^{2} q_{I}^{2} \\tau_{M}^{5} - 2.0 J_{0}^{2} \\gamma_{E 0}^{2} \\nu_{I} q_{E} \\tau_{E} \\tau_{I} \\tau_{M}^{2} - 2.0 J_{0}^{2} \\gamma_{E 0}^{2} \\nu_{I} q_{E} \\tau_{E} \\tau_{M}^{3} - 2.0 J_{0}^{2} \\gamma_{E 0}^{2} \\nu_{I} q_{E} \\tau_{I} \\tau_{M}^{3} - 2.0 J_{0}^{2} \\gamma_{E 0}^{2} \\nu_{I} q_{E} \\tau_{M}^{4} - 2.0 J_{0}^{2} \\gamma_{E 0}^{2} \\nu_{I} q_{I} \\tau_{E} \\tau_{I} \\tau_{M}^{2} - 2.0 J_{0}^{2} \\gamma_{E 0}^{2} \\nu_{I} q_{I} \\tau_{E} \\tau_{M}^{3} - 2.0 J_{0}^{2} \\gamma_{E 0}^{2} \\nu_{I} q_{I} \\tau_{I} \\tau_{M}^{3} - 2.0 J_{0}^{2} \\gamma_{E 0}^{2} \\nu_{I} q_{I} \\tau_{M}^{4} - 2.0 J_{0}^{2} \\gamma_{I 0}^{2} \\nu_{E} q_{I} \\tau_{I}^{2} \\tau_{M}^{2} - 4.0 J_{0}^{2} \\gamma_{I 0}^{2} \\nu_{E} q_{I} \\tau_{I} \\tau_{M}^{3} - 2.0 J_{0}^{2} \\gamma_{I 0}^{2} \\nu_{E} q_{I} \\tau_{M}^{4} - 2.0 J_{0}^{2} \\gamma_{I 0}^{2} \\nu_{I} q_{I} \\tau_{E} \\tau_{I} \\tau_{M}^{2} - 2.0 J_{0}^{2} \\gamma_{I 0}^{2} \\nu_{I} q_{I} \\tau_{E} \\tau_{M}^{3} - 2.0 J_{0}^{2} \\gamma_{I 0}^{2} \\nu_{I} q_{I} \\tau_{I} \\tau_{M}^{3} - 2.0 J_{0}^{2} \\gamma_{I 0}^{2} \\nu_{I} q_{I} \\tau_{M}^{4} + J_{0}^{2} \\nu_{E} \\nu_{I} \\tau_{I} \\tau_{M}^{2} + J_{0}^{2} \\nu_{E} \\nu_{I} \\tau_{M}^{3} + J_{0}^{2} \\nu_{I}^{2} \\tau_{E} \\tau_{M}^{2} + J_{0}^{2} \\nu_{I}^{2} \\tau_{M}^{3} + 4.0 \\alpha_{0 E} \\gamma_{E 0}^{2} \\gamma_{I 0}^{2} q_{I} \\tau_{E} \\tau_{I}^{2} + 8.0 \\alpha_{0 E} \\gamma_{E 0}^{2} \\gamma_{I 0}^{2} q_{I} \\tau_{E} \\tau_{I} \\tau_{M} + 4.0 \\alpha_{0 E} \\gamma_{E 0}^{2} \\gamma_{I 0}^{2} q_{I} \\tau_{E} \\tau_{M}^{2} + 4.0 \\alpha_{0 E} \\gamma_{E 0}^{2} \\gamma_{I 0}^{2} q_{I} \\tau_{I}^{2} \\tau_{M} + 8.0 \\alpha_{0 E} \\gamma_{E 0}^{2} \\gamma_{I 0}^{2} q_{I} \\tau_{I} \\tau_{M}^{2} + 4.0 \\alpha_{0 E} \\gamma_{E 0}^{2} \\gamma_{I 0}^{2} q_{I} \\tau_{M}^{3} - 2.0 \\alpha_{0 E} \\gamma_{E 0}^{2} \\nu_{I} \\tau_{E} \\tau_{I} - 2.0 \\alpha_{0 E} \\gamma_{E 0}^{2} \\nu_{I} \\tau_{E} \\tau_{M} - 2.0 \\alpha_{0 E} \\gamma_{E 0}^{2} \\nu_{I} \\tau_{I} \\tau_{M} - 2.0 \\alpha_{0 E} \\gamma_{E 0}^{2} \\nu_{I} \\tau_{M}^{2} + 4.0 \\alpha_{0 I} \\gamma_{E 0}^{2} \\gamma_{I 0}^{2} q_{I} \\tau_{E} \\tau_{I}^{2} + 8.0 \\alpha_{0 I} \\gamma_{E 0}^{2} \\gamma_{I 0}^{2} q_{I} \\tau_{E} \\tau_{I} \\tau_{M} + 4.0 \\alpha_{0 I} \\gamma_{E 0}^{2} \\gamma_{I 0}^{2} q_{I} \\tau_{E} \\tau_{M}^{2} + 4.0 \\alpha_{0 I} \\gamma_{E 0}^{2} \\gamma_{I 0}^{2} q_{I} \\tau_{I}^{2} \\tau_{M} + 8.0 \\alpha_{0 I} \\gamma_{E 0}^{2} \\gamma_{I 0}^{2} q_{I} \\tau_{I} \\tau_{M}^{2} + 4.0 \\alpha_{0 I} \\gamma_{E 0}^{2} \\gamma_{I 0}^{2} q_{I} \\tau_{M}^{3} - 2.0 \\alpha_{0 I} \\gamma_{I 0}^{2} \\nu_{I} \\tau_{E} \\tau_{I} - 2.0 \\alpha_{0 I} \\gamma_{I 0}^{2} \\nu_{I} \\tau_{E} \\tau_{M} - 2.0 \\alpha_{0 I} \\gamma_{I 0}^{2} \\nu_{I} \\tau_{I} \\tau_{M} - 2.0 \\alpha_{0 I} \\gamma_{I 0}^{2} \\nu_{I} \\tau_{M}^{2}}{\\left(\\gamma_{E 0} - \\gamma_{I 0}\\right) \\left(\\gamma_{E 0} + \\gamma_{I 0}\\right) \\left(\\tau_{I} + \\tau_{M}\\right) \\left(\\nu_{E} q_{I} \\tau_{I} + \\nu_{E} q_{I} \\tau_{M} - \\nu_{I} q_{E} \\tau_{E} - \\nu_{I} q_{E} \\tau_{M}\\right)}}}{J_{0} \\tau_{M}}, \\  \\sqrt{- \\frac{\\left(\\tau_{I} + \\tau_{M}\\right) \\left(4.0 J_{0}^{2} \\gamma_{E 0}^{2} \\gamma_{I 0}^{2} q_{E}^{2} \\tau_{E}^{2} \\tau_{I} \\tau_{M}^{2} + 4.0 J_{0}^{2} \\gamma_{E 0}^{2} \\gamma_{I 0}^{2} q_{E}^{2} \\tau_{E}^{2} \\tau_{M}^{3} + 8.0 J_{0}^{2} \\gamma_{E 0}^{2} \\gamma_{I 0}^{2} q_{E}^{2} \\tau_{E} \\tau_{I} \\tau_{M}^{3} + 8.0 J_{0}^{2} \\gamma_{E 0}^{2} \\gamma_{I 0}^{2} q_{E}^{2} \\tau_{E} \\tau_{M}^{4} + 4.0 J_{0}^{2} \\gamma_{E 0}^{2} \\gamma_{I 0}^{2} q_{E}^{2} \\tau_{I} \\tau_{M}^{4} + 4.0 J_{0}^{2} \\gamma_{E 0}^{2} \\gamma_{I 0}^{2} q_{E}^{2} \\tau_{M}^{5} + 4.0 J_{0}^{2} \\gamma_{E 0}^{2} \\gamma_{I 0}^{2} q_{E} q_{I} \\tau_{E}^{2} \\tau_{I} \\tau_{M}^{2} + 4.0 J_{0}^{2} \\gamma_{E 0}^{2} \\gamma_{I 0}^{2} q_{E} q_{I} \\tau_{E}^{2} \\tau_{M}^{3} + 8.0 J_{0}^{2} \\gamma_{E 0}^{2} \\gamma_{I 0}^{2} q_{E} q_{I} \\tau_{E} \\tau_{I} \\tau_{M}^{3} + 8.0 J_{0}^{2} \\gamma_{E 0}^{2} \\gamma_{I 0}^{2} q_{E} q_{I} \\tau_{E} \\tau_{M}^{4} + 4.0 J_{0}^{2} \\gamma_{E 0}^{2} \\gamma_{I 0}^{2} q_{E} q_{I} \\tau_{I} \\tau_{M}^{4} + 4.0 J_{0}^{2} \\gamma_{E 0}^{2} \\gamma_{I 0}^{2} q_{E} q_{I} \\tau_{M}^{5} - 2.0 J_{0}^{2} \\gamma_{E 0}^{2} \\nu_{E} q_{E} \\tau_{E} \\tau_{I} \\tau_{M}^{2} - 2.0 J_{0}^{2} \\gamma_{E 0}^{2} \\nu_{E} q_{E} \\tau_{E} \\tau_{M}^{3} - 2.0 J_{0}^{2} \\gamma_{E 0}^{2} \\nu_{E} q_{E} \\tau_{I} \\tau_{M}^{3} - 2.0 J_{0}^{2} \\gamma_{E 0}^{2} \\nu_{E} q_{E} \\tau_{M}^{4} - 2.0 J_{0}^{2} \\gamma_{E 0}^{2} \\nu_{E} q_{I} \\tau_{E} \\tau_{I} \\tau_{M}^{2} - 2.0 J_{0}^{2} \\gamma_{E 0}^{2} \\nu_{E} q_{I} \\tau_{E} \\tau_{M}^{3} - 2.0 J_{0}^{2} \\gamma_{E 0}^{2} \\nu_{E} q_{I} \\tau_{I} \\tau_{M}^{3} - 2.0 J_{0}^{2} \\gamma_{E 0}^{2} \\nu_{E} q_{I} \\tau_{M}^{4} - 2.0 J_{0}^{2} \\gamma_{I 0}^{2} \\nu_{E} q_{E} \\tau_{E} \\tau_{I} \\tau_{M}^{2} - 2.0 J_{0}^{2} \\gamma_{I 0}^{2} \\nu_{E} q_{E} \\tau_{E} \\tau_{M}^{3} - 2.0 J_{0}^{2} \\gamma_{I 0}^{2} \\nu_{E} q_{E} \\tau_{I} \\tau_{M}^{3} - 2.0 J_{0}^{2} \\gamma_{I 0}^{2} \\nu_{E} q_{E} \\tau_{M}^{4} - 2.0 J_{0}^{2} \\gamma_{I 0}^{2} \\nu_{I} q_{E} \\tau_{E}^{2} \\tau_{M}^{2} - 4.0 J_{0}^{2} \\gamma_{I 0}^{2} \\nu_{I} q_{E} \\tau_{E} \\tau_{M}^{3} - 2.0 J_{0}^{2} \\gamma_{I 0}^{2} \\nu_{I} q_{E} \\tau_{M}^{4} + J_{0}^{2} \\nu_{E}^{2} \\tau_{I} \\tau_{M}^{2} + J_{0}^{2} \\nu_{E}^{2} \\tau_{M}^{3} + J_{0}^{2} \\nu_{E} \\nu_{I} \\tau_{E} \\tau_{M}^{2} + J_{0}^{2} \\nu_{E} \\nu_{I} \\tau_{M}^{3} + 4.0 \\alpha_{0 E} \\gamma_{E 0}^{2} \\gamma_{I 0}^{2} q_{E} \\tau_{E}^{2} \\tau_{I} + 4.0 \\alpha_{0 E} \\gamma_{E 0}^{2} \\gamma_{I 0}^{2} q_{E} \\tau_{E}^{2} \\tau_{M} + 8.0 \\alpha_{0 E} \\gamma_{E 0}^{2} \\gamma_{I 0}^{2} q_{E} \\tau_{E} \\tau_{I} \\tau_{M} + 8.0 \\alpha_{0 E} \\gamma_{E 0}^{2} \\gamma_{I 0}^{2} q_{E} \\tau_{E} \\tau_{M}^{2} + 4.0 \\alpha_{0 E} \\gamma_{E 0}^{2} \\gamma_{I 0}^{2} q_{E} \\tau_{I} \\tau_{M}^{2} + 4.0 \\alpha_{0 E} \\gamma_{E 0}^{2} \\gamma_{I 0}^{2} q_{E} \\tau_{M}^{3} - 2.0 \\alpha_{0 E} \\gamma_{E 0}^{2} \\nu_{E} \\tau_{E} \\tau_{I} - 2.0 \\alpha_{0 E} \\gamma_{E 0}^{2} \\nu_{E} \\tau_{E} \\tau_{M} - 2.0 \\alpha_{0 E} \\gamma_{E 0}^{2} \\nu_{E} \\tau_{I} \\tau_{M} - 2.0 \\alpha_{0 E} \\gamma_{E 0}^{2} \\nu_{E} \\tau_{M}^{2} + 4.0 \\alpha_{0 I} \\gamma_{E 0}^{2} \\gamma_{I 0}^{2} q_{E} \\tau_{E}^{2} \\tau_{I} + 4.0 \\alpha_{0 I} \\gamma_{E 0}^{2} \\gamma_{I 0}^{2} q_{E} \\tau_{E}^{2} \\tau_{M} + 8.0 \\alpha_{0 I} \\gamma_{E 0}^{2} \\gamma_{I 0}^{2} q_{E} \\tau_{E} \\tau_{I} \\tau_{M} + 8.0 \\alpha_{0 I} \\gamma_{E 0}^{2} \\gamma_{I 0}^{2} q_{E} \\tau_{E} \\tau_{M}^{2} + 4.0 \\alpha_{0 I} \\gamma_{E 0}^{2} \\gamma_{I 0}^{2} q_{E} \\tau_{I} \\tau_{M}^{2} + 4.0 \\alpha_{0 I} \\gamma_{E 0}^{2} \\gamma_{I 0}^{2} q_{E} \\tau_{M}^{3} - 2.0 \\alpha_{0 I} \\gamma_{I 0}^{2} \\nu_{E} \\tau_{E} \\tau_{I} - 2.0 \\alpha_{0 I} \\gamma_{I 0}^{2} \\nu_{E} \\tau_{E} \\tau_{M} - 2.0 \\alpha_{0 I} \\gamma_{I 0}^{2} \\nu_{E} \\tau_{I} \\tau_{M} - 2.0 \\alpha_{0 I} \\gamma_{I 0}^{2} \\nu_{E} \\tau_{M}^{2}\\right)}{\\left(\\tau_{E} + \\tau_{M}\\right) \\left(4.0 J_{0}^{2} \\gamma_{E 0}^{2} \\gamma_{I 0}^{2} q_{E} q_{I} \\tau_{E} \\tau_{I}^{2} \\tau_{M}^{2} + 8.0 J_{0}^{2} \\gamma_{E 0}^{2} \\gamma_{I 0}^{2} q_{E} q_{I} \\tau_{E} \\tau_{I} \\tau_{M}^{3} + 4.0 J_{0}^{2} \\gamma_{E 0}^{2} \\gamma_{I 0}^{2} q_{E} q_{I} \\tau_{E} \\tau_{M}^{4} + 4.0 J_{0}^{2} \\gamma_{E 0}^{2} \\gamma_{I 0}^{2} q_{E} q_{I} \\tau_{I}^{2} \\tau_{M}^{3} + 8.0 J_{0}^{2} \\gamma_{E 0}^{2} \\gamma_{I 0}^{2} q_{E} q_{I} \\tau_{I} \\tau_{M}^{4} + 4.0 J_{0}^{2} \\gamma_{E 0}^{2} \\gamma_{I 0}^{2} q_{E} q_{I} \\tau_{M}^{5} + 4.0 J_{0}^{2} \\gamma_{E 0}^{2} \\gamma_{I 0}^{2} q_{I}^{2} \\tau_{E} \\tau_{I}^{2} \\tau_{M}^{2} + 8.0 J_{0}^{2} \\gamma_{E 0}^{2} \\gamma_{I 0}^{2} q_{I}^{2} \\tau_{E} \\tau_{I} \\tau_{M}^{3} + 4.0 J_{0}^{2} \\gamma_{E 0}^{2} \\gamma_{I 0}^{2} q_{I}^{2} \\tau_{E} \\tau_{M}^{4} + 4.0 J_{0}^{2} \\gamma_{E 0}^{2} \\gamma_{I 0}^{2} q_{I}^{2} \\tau_{I}^{2} \\tau_{M}^{3} + 8.0 J_{0}^{2} \\gamma_{E 0}^{2} \\gamma_{I 0}^{2} q_{I}^{2} \\tau_{I} \\tau_{M}^{4} + 4.0 J_{0}^{2} \\gamma_{E 0}^{2} \\gamma_{I 0}^{2} q_{I}^{2} \\tau_{M}^{5} - 2.0 J_{0}^{2} \\gamma_{E 0}^{2} \\nu_{I} q_{E} \\tau_{E} \\tau_{I} \\tau_{M}^{2} - 2.0 J_{0}^{2} \\gamma_{E 0}^{2} \\nu_{I} q_{E} \\tau_{E} \\tau_{M}^{3} - 2.0 J_{0}^{2} \\gamma_{E 0}^{2} \\nu_{I} q_{E} \\tau_{I} \\tau_{M}^{3} - 2.0 J_{0}^{2} \\gamma_{E 0}^{2} \\nu_{I} q_{E} \\tau_{M}^{4} - 2.0 J_{0}^{2} \\gamma_{E 0}^{2} \\nu_{I} q_{I} \\tau_{E} \\tau_{I} \\tau_{M}^{2} - 2.0 J_{0}^{2} \\gamma_{E 0}^{2} \\nu_{I} q_{I} \\tau_{E} \\tau_{M}^{3} - 2.0 J_{0}^{2} \\gamma_{E 0}^{2} \\nu_{I} q_{I} \\tau_{I} \\tau_{M}^{3} - 2.0 J_{0}^{2} \\gamma_{E 0}^{2} \\nu_{I} q_{I} \\tau_{M}^{4} - 2.0 J_{0}^{2} \\gamma_{I 0}^{2} \\nu_{E} q_{I} \\tau_{I}^{2} \\tau_{M}^{2} - 4.0 J_{0}^{2} \\gamma_{I 0}^{2} \\nu_{E} q_{I} \\tau_{I} \\tau_{M}^{3} - 2.0 J_{0}^{2} \\gamma_{I 0}^{2} \\nu_{E} q_{I} \\tau_{M}^{4} - 2.0 J_{0}^{2} \\gamma_{I 0}^{2} \\nu_{I} q_{I} \\tau_{E} \\tau_{I} \\tau_{M}^{2} - 2.0 J_{0}^{2} \\gamma_{I 0}^{2} \\nu_{I} q_{I} \\tau_{E} \\tau_{M}^{3} - 2.0 J_{0}^{2} \\gamma_{I 0}^{2} \\nu_{I} q_{I} \\tau_{I} \\tau_{M}^{3} - 2.0 J_{0}^{2} \\gamma_{I 0}^{2} \\nu_{I} q_{I} \\tau_{M}^{4} + J_{0}^{2} \\nu_{E} \\nu_{I} \\tau_{I} \\tau_{M}^{2} + J_{0}^{2} \\nu_{E} \\nu_{I} \\tau_{M}^{3} + J_{0}^{2} \\nu_{I}^{2} \\tau_{E} \\tau_{M}^{2} + J_{0}^{2} \\nu_{I}^{2} \\tau_{M}^{3} + 4.0 \\alpha_{0 E} \\gamma_{E 0}^{2} \\gamma_{I 0}^{2} q_{I} \\tau_{E} \\tau_{I}^{2} + 8.0 \\alpha_{0 E} \\gamma_{E 0}^{2} \\gamma_{I 0}^{2} q_{I} \\tau_{E} \\tau_{I} \\tau_{M} + 4.0 \\alpha_{0 E} \\gamma_{E 0}^{2} \\gamma_{I 0}^{2} q_{I} \\tau_{E} \\tau_{M}^{2} + 4.0 \\alpha_{0 E} \\gamma_{E 0}^{2} \\gamma_{I 0}^{2} q_{I} \\tau_{I}^{2} \\tau_{M} + 8.0 \\alpha_{0 E} \\gamma_{E 0}^{2} \\gamma_{I 0}^{2} q_{I} \\tau_{I} \\tau_{M}^{2} + 4.0 \\alpha_{0 E} \\gamma_{E 0}^{2} \\gamma_{I 0}^{2} q_{I} \\tau_{M}^{3} - 2.0 \\alpha_{0 E} \\gamma_{E 0}^{2} \\nu_{I} \\tau_{E} \\tau_{I} - 2.0 \\alpha_{0 E} \\gamma_{E 0}^{2} \\nu_{I} \\tau_{E} \\tau_{M} - 2.0 \\alpha_{0 E} \\gamma_{E 0}^{2} \\nu_{I} \\tau_{I} \\tau_{M} - 2.0 \\alpha_{0 E} \\gamma_{E 0}^{2} \\nu_{I} \\tau_{M}^{2} + 4.0 \\alpha_{0 I} \\gamma_{E 0}^{2} \\gamma_{I 0}^{2} q_{I} \\tau_{E} \\tau_{I}^{2} + 8.0 \\alpha_{0 I} \\gamma_{E 0}^{2} \\gamma_{I 0}^{2} q_{I} \\tau_{E} \\tau_{I} \\tau_{M} + 4.0 \\alpha_{0 I} \\gamma_{E 0}^{2} \\gamma_{I 0}^{2} q_{I} \\tau_{E} \\tau_{M}^{2} + 4.0 \\alpha_{0 I} \\gamma_{E 0}^{2} \\gamma_{I 0}^{2} q_{I} \\tau_{I}^{2} \\tau_{M} + 8.0 \\alpha_{0 I} \\gamma_{E 0}^{2} \\gamma_{I 0}^{2} q_{I} \\tau_{I} \\tau_{M}^{2} + 4.0 \\alpha_{0 I} \\gamma_{E 0}^{2} \\gamma_{I 0}^{2} q_{I} \\tau_{M}^{3} - 2.0 \\alpha_{0 I} \\gamma_{I 0}^{2} \\nu_{I} \\tau_{E} \\tau_{I} - 2.0 \\alpha_{0 I} \\gamma_{I 0}^{2} \\nu_{I} \\tau_{E} \\tau_{M} - 2.0 \\alpha_{0 I} \\gamma_{I 0}^{2} \\nu_{I} \\tau_{I} \\tau_{M} - 2.0 \\alpha_{0 I} \\gamma_{I 0}^{2} \\nu_{I} \\tau_{M}^{2}\\right)}}\\right)\\right]$"
      ],
      "text/plain": [
       "<IPython.core.display.Math object>"
      ]
     },
     "metadata": {},
     "output_type": "display_data"
    }
   ],
   "source": [
    "from sympy import init_printing\n",
    "from IPython.display import display, Math\n",
    "\n",
    "# init_printing()  # enables pretty printing globally\n",
    "\n",
    "# sol = solve(gamma_E-c,nu_E)\n",
    "display(Math(sympy.latex(sol)))\n",
    "\n",
    "# print(sol)\n",
    "# print(sympy.latex(sol))\n"
   ]
  },
  {
   "cell_type": "code",
   "execution_count": null,
   "metadata": {},
   "outputs": [],
   "source": []
  }
 ],
 "metadata": {
  "kernelspec": {
   "display_name": "inference",
   "language": "python",
   "name": "python3"
  },
  "language_info": {
   "codemirror_mode": {
    "name": "ipython",
    "version": 3
   },
   "file_extension": ".py",
   "mimetype": "text/x-python",
   "name": "python",
   "nbconvert_exporter": "python",
   "pygments_lexer": "ipython3",
   "version": "3.9.23"
  }
 },
 "nbformat": 4,
 "nbformat_minor": 2
}
