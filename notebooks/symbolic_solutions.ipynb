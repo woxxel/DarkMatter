{
 "cells": [
  {
   "cell_type": "code",
   "execution_count": 11,
   "metadata": {},
   "outputs": [],
   "source": [
    "import numpy as np\n",
    "from sympy import solve\n",
    "from sympy.abc import c, r, A, N, M\n",
    "\n",
    "import matplotlib.pyplot as plt"
   ]
  },
  {
   "cell_type": "code",
   "execution_count": 4,
   "metadata": {},
   "outputs": [],
   "source": [
    "(\n",
    "    1.0 / (A + M) * ((1 - r) ** 2 / 2.0 + (r * (1 - r) * A) / (A + N))\n",
    "    + 1.0 / (N + M) * ((r**2) / 2.0 + (r * (1 - r) * N) / (A + N))\n",
    "    - c\n",
    ")"
   ]
  },
  {
   "cell_type": "code",
   "execution_count": 46,
   "metadata": {},
   "outputs": [
    {
     "data": {
      "text/plain": [
       "[(-N - 2.0*sqrt(0.5*A**2*M*c + 0.5*A**2*N*c + 0.5*A*M**2*c + A*M*N*c - 0.25*A*M + 0.5*A*N**2*c - 0.25*A*N + 0.5*M**2*N*c + 0.5*M*N**2*c - 0.25*M*N))/(A - N),\n",
       " (-N + 2.0*sqrt(0.5*A**2*M*c + 0.5*A**2*N*c + 0.5*A*M**2*c + A*M*N*c - 0.25*A*M + 0.5*A*N**2*c - 0.25*A*N + 0.5*M**2*N*c + 0.5*M*N**2*c - 0.25*M*N))/(A - N)]"
      ]
     },
     "execution_count": 46,
     "metadata": {},
     "output_type": "execute_result"
    }
   ],
   "source": [
    "solve(\n",
    "    1.0 / (A + M) * ((1.0 - r) ** 2 / 2.0 + (r * (1.0 - r) * A) / (A + N))\n",
    "    + 1.0 / (N + M) * ((r**2) / 2.0 + (r * (1.0 - r) * N) / (A + N))\n",
    "    - c,\n",
    "    r,\n",
    ")"
   ]
  },
  {
   "cell_type": "code",
   "execution_count": 43,
   "metadata": {},
   "outputs": [],
   "source": [
    "def get_mixing(c, tau_A=0.005, tau_N=0.2, tau_M=0.01):\n",
    "    ## ignoring 2nd solution (which appears to yield solutions with r > 1, only)\n",
    "    return (\n",
    "        (\n",
    "            -tau_N\n",
    "            + 2.0\n",
    "            * np.sqrt(\n",
    "                0.5 * tau_A**2 * tau_M * c\n",
    "                + 0.5 * tau_A**2 * tau_N * c\n",
    "                + 0.5 * tau_A * tau_M**2 * c\n",
    "                + tau_A * tau_M * tau_N * c\n",
    "                + 0.5 * tau_A * tau_N**2 * c\n",
    "                + 0.5 * tau_M**2 * tau_N * c\n",
    "                + 0.5 * tau_M * tau_N**2 * c\n",
    "                - 0.25 * tau_A * tau_M\n",
    "                - 0.25 * tau_A * tau_N\n",
    "                - 0.25 * tau_M * tau_N\n",
    "            )\n",
    "        )\n",
    "        / (tau_A - tau_N),\n",
    "    )"
   ]
  },
  {
   "cell_type": "code",
   "execution_count": 44,
   "metadata": {},
   "outputs": [
    {
     "name": "stderr",
     "output_type": "stream",
     "text": [
      "/tmp/ipykernel_561603/1943150303.py:7: RuntimeWarning: invalid value encountered in sqrt\n",
      "  * np.sqrt(\n"
     ]
    },
    {
     "data": {
      "text/plain": [
       "(array([        nan,         nan,         nan,         nan,         nan,\n",
       "                nan,  0.98952448,  0.9036156 ,  0.85689268,  0.82055129,\n",
       "         0.78974359,  0.76251862,  0.73785778,  0.71514949,  0.69399242,\n",
       "         0.6741064 ,  0.65528661,  0.63737798,  0.62025974,  0.60383563,\n",
       "         0.58802751,  0.57277086,  0.5580117 ,  0.54370432,  0.52980962,\n",
       "         0.51629381,  0.5031275 ,  0.4902849 ,  0.47774324,  0.46548232,\n",
       "         0.45348407,  0.44173232,  0.43021246,  0.41891129,  0.4078168 ,\n",
       "         0.39691806,  0.38620505,  0.37566859,  0.36530023,  0.35509217,\n",
       "         0.3450372 ,  0.33512863,  0.32536025,  0.31572627,  0.30622129,\n",
       "         0.29684026,  0.28757846,  0.27843145,  0.26939506,  0.26046539,\n",
       "         0.25163873,  0.2429116 ,  0.23428071,  0.22574294,  0.21729534,\n",
       "         0.20893511,  0.2006596 ,  0.19246629,  0.18435276,  0.17631674,\n",
       "         0.16835604,  0.16046859,  0.1526524 ,  0.14490557,  0.13722629,\n",
       "         0.12961283,  0.12206351,  0.11457674,  0.107151  ,  0.09978481,\n",
       "         0.09247677,  0.08522552,  0.07802975,  0.07088822,  0.06379971,\n",
       "         0.05676305,  0.04977714,  0.04284088,  0.03595324,  0.02911319,\n",
       "         0.02231978,  0.01557206,  0.00886912,  0.00221007, -0.00440592,\n",
       "        -0.01097969, -0.01751204, -0.02400373, -0.03045552, -0.03686813,\n",
       "        -0.04324227, -0.04957863, -0.05587786, -0.06214062, -0.06836752,\n",
       "        -0.07455918, -0.08071619, -0.08683913, -0.09292855, -0.098985  ,\n",
       "        -0.10500901]),)"
      ]
     },
     "execution_count": 44,
     "metadata": {},
     "output_type": "execute_result"
    }
   ],
   "source": [
    "get_mixing(np.linspace(0, 40, 101))"
   ]
  },
  {
   "cell_type": "code",
   "execution_count": null,
   "metadata": {},
   "outputs": [],
   "source": []
  }
 ],
 "metadata": {
  "kernelspec": {
   "display_name": "inference-kernel",
   "language": "python",
   "name": "inference-kernel"
  },
  "language_info": {
   "codemirror_mode": {
    "name": "ipython",
    "version": 3
   },
   "file_extension": ".py",
   "mimetype": "text/x-python",
   "name": "python",
   "nbconvert_exporter": "python",
   "pygments_lexer": "ipython3",
   "version": "3.9.13"
  }
 },
 "nbformat": 4,
 "nbformat_minor": 2
}
