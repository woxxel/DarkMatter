{
 "cells": [
  {
   "cell_type": "code",
   "execution_count": 1,
   "id": "31191266",
   "metadata": {},
   "outputs": [
    {
     "name": "stdout",
     "output_type": "stream",
     "text": [
      "/home/wollex/Data/Science/WolfGroup/DarkMatter/Programme\n"
     ]
    }
   ],
   "source": [
    "%load_ext autoreload\n",
    "%autoreload 2\n",
    "\n",
    "import sys\n",
    "from pathlib import Path\n",
    "root_dir = Path.cwd().parents[1]\n",
    "if not root_dir in sys.path: sys.path.insert(0,str(root_dir))\n",
    "print(root_dir)"
   ]
  },
  {
   "cell_type": "code",
   "execution_count": 2,
   "id": "6c420eae",
   "metadata": {},
   "outputs": [],
   "source": [
    "import numpy as np\n",
    "from inference.network import Network"
   ]
  },
  {
   "cell_type": "code",
   "execution_count": null,
   "id": "06af9a24",
   "metadata": {},
   "outputs": [],
   "source": [
    "net = Network(eps=0.5,eta=0.7)\n",
    "net.register_population(nu_bar=2., alpha_0=0.02, J0=-1.)\n",
    "net.populations[0].register_synapse(tau_I=0.005, r_I=1., tau_norm=1.)\n",
    "net.register_population(1,nu_bar=0.5, alpha_0=0.01, J0=1.)\n",
    "net.populations[1].register_synapse(tau_I=0.001, r_I=1., tau_norm=1.)"
   ]
  },
  {
   "cell_type": "code",
   "execution_count": null,
   "id": "dbe57d32",
   "metadata": {},
   "outputs": [],
   "source": [
    "\n"
   ]
  },
  {
   "cell_type": "code",
   "execution_count": null,
   "id": "cdc9cb0c",
   "metadata": {},
   "outputs": [
    {
     "data": {
      "text/plain": [
       "array([[-0.00866025,  0.005     ],\n",
       "       [-0.0093675 ,  0.0035    ]])"
      ]
     },
     "execution_count": 37,
     "metadata": {},
     "output_type": "execute_result"
    }
   ],
   "source": []
  },
  {
   "cell_type": "code",
   "execution_count": null,
   "id": "6cac15fb",
   "metadata": {},
   "outputs": [],
   "source": [
    "net.set_weights()\n",
    "net.calculate_sigma_V()"
   ]
  },
  {
   "cell_type": "code",
   "execution_count": null,
   "id": "906e8a60",
   "metadata": {},
   "outputs": [
    {
     "name": "stdout",
     "output_type": "stream",
     "text": [
      "Network with 2 populations:\n",
      "  eps: 0.5\n",
      "  eta: 0.7\n",
      "  weights: [[-0.00866025  0.005     ]\n",
      " [-0.0093675   0.0035    ]]\n",
      "\n",
      "Population 0:\n",
      "  nu_bar: 0.5\n",
      "  alpha_0: 0.02\n",
      "  q: 0.5768873295249546\n",
      "\n",
      "  alpha: 0.023955765802149684\n",
      "  sigma_V: 0.06908492797077576\n",
      "  nu_max: 38.361042373066965\n",
      "\n",
      "  tau_M: 0.01\n",
      "  Psi_0: 0.0\n",
      "  kappa: 1.0\n",
      "  J0: -1.0\n",
      "  Synapse 0:\n",
      "    tau_I: 0.005\n",
      "    r_I: 1.0\n",
      "    tau_norm: 1.0\n",
      "Population 1:\n",
      "  nu_bar: 2.0\n",
      "  alpha_0: 0.01\n",
      "  q: 5.224486618122905\n",
      "\n",
      "  alpha: 0.014649976936426225\n",
      "  sigma_V: 0.06355026643245773\n",
      "  nu_max: 32.64021152186275\n",
      "\n",
      "  tau_M: 0.01\n",
      "  Psi_0: 0.0\n",
      "  kappa: 1.0\n",
      "  J0: 1.0\n",
      "  Synapse 0:\n",
      "    tau_I: 0.001\n",
      "    r_I: 1.0\n",
      "    tau_norm: 1.0\n"
     ]
    }
   ],
   "source": [
    "net.populations[0].nu_bar = 0.5\n",
    "net.populations[1].nu_bar = 2.\n",
    "net.solve_selfcon()\n",
    "net.print_current_state()"
   ]
  },
  {
   "cell_type": "code",
   "execution_count": 66,
   "id": "b87a68f4",
   "metadata": {},
   "outputs": [],
   "source": [
    "n_steps = 101\n",
    "gamma = np.full((n_steps,n_steps),np.nan)\n",
    "chi = np.full((n_steps,n_steps),np.nan)\n",
    "delta = np.full((n_steps,n_steps),np.nan)\n",
    "\n",
    "eps_arr = np.linspace(0.,np.sqrt(1/2.),n_steps)\n",
    "eta_arr = np.linspace(0.,1.,n_steps)\n",
    "for i,eps in enumerate(eps_arr):\n",
    "    net.eps = eps\n",
    "    for j,eta in enumerate(eta_arr):\n",
    "        net.eta = eta\n",
    "        net.set_weights()\n",
    "        net.calculate_sigma_V()\n",
    "        if net.solve_selfcon():\n",
    "            # net.populations[0].calculate_distribution_parameters()\n",
    "\n",
    "            gamma[i,j] = net.populations[0].gamma\n",
    "            delta[i,j] = net.populations[0].delta\n",
    "            chi[i,j] = net.populations[0].chi"
   ]
  },
  {
   "cell_type": "code",
   "execution_count": 58,
   "id": "eb5ace53",
   "metadata": {},
   "outputs": [
    {
     "data": {
      "text/plain": [
       "array([[2.42664662, 2.42664662, 2.42664662, ..., 2.42664662, 2.42664662,\n",
       "        2.42664662],\n",
       "       [2.42663206, 2.42663206, 2.42663206, ..., 2.42663206, 2.42663206,\n",
       "        2.42663206],\n",
       "       [2.42658839, 2.42658839, 2.42658839, ..., 2.42658839, 2.42658839,\n",
       "        2.42658839],\n",
       "       ...,\n",
       "       [2.29198567, 2.29198558, 2.2919853 , ..., 2.29260044, 2.29265964,\n",
       "        2.29272231],\n",
       "       [2.28943232, 2.28943222, 2.28943193, ..., 2.29013329, 2.29019875,\n",
       "        2.29026806],\n",
       "       [2.28686934, 2.28686924, 2.28686893, ..., 2.28766528, 2.28773761,\n",
       "        2.28781422]])"
      ]
     },
     "execution_count": 58,
     "metadata": {},
     "output_type": "execute_result"
    }
   ],
   "source": [
    "gamma"
   ]
  },
  {
   "cell_type": "code",
   "execution_count": 67,
   "id": "a9eb150e",
   "metadata": {},
   "outputs": [
    {
     "data": {
      "text/plain": [
       "<matplotlib.colorbar.Colorbar at 0x788f586dfcd0>"
      ]
     },
     "execution_count": 67,
     "metadata": {},
     "output_type": "execute_result"
    },
    {
     "data": {
      "image/png": "[encoded data removed]",
      "text/plain": [
       "<Figure size 640x480 with 4 Axes>"
      ]
     },
     "metadata": {},
     "output_type": "display_data"
    }
   ],
   "source": [
    "from matplotlib import pyplot as plt\n",
    "from matplotlib.colors import ListedColormap, BoundaryNorm\n",
    "\n",
    "fig = plt.figure()\n",
    "ax_gamma = fig.add_subplot(121)\n",
    "ax_chi = fig.add_subplot(122)\n",
    "\n",
    "cmap = ListedColormap([plt.cm.gray(i/9) for i in range(10)])\n",
    "norm = BoundaryNorm(np.linspace(0, 1, 11), cmap.N)\n",
    "\n",
    "img_gamma = ax_gamma.imshow((gamma**2).T, origin='lower', aspect='auto', extent=(*eps_arr[[0,-1]],*eta_arr[[0,-1]]), cmap=cmap)#, norm=norm)\n",
    "# img_chi = ax_chi.imshow(chi.T, origin='lower', aspect='auto', extent=(*eps_arr[[0,-1]],*eta_arr[[0,-1]]), cmap=\"jet\",vmin=0.,vmax=4.)#, norm=norm)\n",
    "\n",
    "img_delta = ax_chi.imshow(delta.T, origin='lower', aspect='auto', extent=(*eps_arr[[0,-1]],*eta_arr[[0,-1]]), cmap=\"jet\")#, norm=norm)\n",
    "\n",
    "plt.colorbar(img_gamma, ax=ax_gamma, ticks=np.linspace(0, 1, 11))\n",
    "# plt.colorbar(img_chi, ax=ax_chi, ticks=np.linspace(0, 4, 11))\n",
    "plt.colorbar(img_delta, ax=ax_chi, ticks=np.linspace(0, 4, 11))"
   ]
  },
  {
   "cell_type": "code",
   "execution_count": 42,
   "id": "1d10375f",
   "metadata": {},
   "outputs": [],
   "source": [
    "from darkMatter import darkMatter\n",
    "from general_utils.parameters import set_options, get_J, get_var_V\n"
   ]
  },
  {
   "cell_type": "code",
   "execution_count": 46,
   "id": "9a4922c4",
   "metadata": {},
   "outputs": [],
   "source": [
    "net = Network(eps=0.5,eta=0.7)\n",
    "net.register_population(nu_bar=2., alpha_0=0.02, J0=-1.)\n",
    "net.populations[0].register_synapse(tau_I=0.005, r_I=1., tau_norm=1.)\n",
    "net.register_population(1,nu_bar=0.5, alpha_0=0.01, J0=1.)\n",
    "net.populations[1].register_synapse(tau_I=0.001, r_I=1., tau_norm=1.)\n",
    "net.set_weights()"
   ]
  },
  {
   "cell_type": "code",
   "execution_count": 49,
   "id": "dda314ac",
   "metadata": {},
   "outputs": [],
   "source": [
    "options = set_options(L=1, nI=1, nE=1)\n",
    "\n",
    "for key in [\"eps\",\"eta\"]:\n",
    "    options[key] = getattr(net,key)\n",
    "\n",
    "for key in [\"nu_bar\",\"alpha_0\",\"J0\"]:\n",
    "    options[key] = []\n",
    "    for p,pop in enumerate(net.populations):\n",
    "        options[key].append(getattr(pop,key))\n",
    "\n",
    "for key in [\"tau_I\",\"r_I\",\"tau_norm\"]:\n",
    "    options[key] = []\n",
    "    for p,pop in enumerate(net.populations):\n",
    "        for s,syn in enumerate(pop.synapses):\n",
    "            \n",
    "            options[key].append(getattr(syn,key))\n",
    "\n",
    "options[\"tau_n\"] = 0.\n",
    "options[\"rateWnt\"] = options[\"nu_bar\"]\n",
    "# net.print_current_state()\n",
    "# options\n"
   ]
  },
  {
   "cell_type": "code",
   "execution_count": null,
   "id": "b1642b88",
   "metadata": {},
   "outputs": [],
   "source": [
    "options[\"simulation\"] = {\n",
    "    \"eps\": [0.0, np.sqrt(1.0 / 2)],\n",
    "    \"eta\": [0.6],\n",
    "    \"sim_prim\": [0, -1, 0],\n",
    "    \"sim_sec\": [0, -1, 0],\n",
    "}\n"
   ]
  }
 ],
 "metadata": {
  "kernelspec": {
   "display_name": "inference",
   "language": "python",
   "name": "python3"
  },
  "language_info": {
   "codemirror_mode": {
    "name": "ipython",
    "version": 3
   },
   "file_extension": ".py",
   "mimetype": "text/x-python",
   "name": "python",
   "nbconvert_exporter": "python",
   "pygments_lexer": "ipython3",
   "version": "3.9.23"
  }
 },
 "nbformat": 4,
 "nbformat_minor": 5
}
