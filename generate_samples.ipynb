{
 "cells": [
  {
   "cell_type": "code",
   "execution_count": 1,
   "id": "c3900e24-9134-4df5-891a-44a44fcee2af",
   "metadata": {},
   "outputs": [],
   "source": [
    "%load_ext autoreload\n",
    "%autoreload 2\n",
    "\n",
    "## import general packages\n",
    "import numpy as np\n",
    "import matplotlib.pyplot as plt\n",
    "# from matplotlib import patches as mpatches\n",
    "# import ipywidgets as widgets\n",
    "# %matplotlib nbagg\n",
    "\n",
    "\n",
    "import os, sys, math\n",
    "\n",
    "## add root directory to path, to allow for imports \n",
    "root_dir = os.path.dirname(os.path.abspath(os.getcwd()))\n",
    "if not root_dir in sys.path: sys.path.append(root_dir)\n",
    "\n",
    "## import darkMatter specific packages\n",
    "from darkMatter import darkMatter\n",
    "from utils.plots import *\n",
    "from utils.parameters import set_options"
   ]
  },
  {
   "cell_type": "markdown",
   "id": "e7141af6-0be2-483a-9a52-a3f4b8ef8cfc",
   "metadata": {},
   "source": [
    "## TODO\n",
    "* properly create data, depending on certain parameters ($\\gamma$, $\\delta$, $\\nu_{max}$)\n",
    "* throw \"inference\" into non-notebook-code\n",
    "* run inference on it\n",
    "* analyze, how successful inference is, depending on parameters!"
   ]
  },
  {
   "cell_type": "code",
   "execution_count": null,
   "id": "27f354b6-d977-432b-9463-94e358b5c44b",
   "metadata": {},
   "outputs": [],
   "source": []
  },
  {
   "cell_type": "code",
   "execution_count": 2,
   "id": "aa32fb96-0fa8-43e7-9105-dd986dc2faee",
   "metadata": {},
   "outputs": [
    {
     "name": "stdout",
     "output_type": "stream",
     "text": [
      "N 100\n",
      "T 1000.0\n",
      "draw_from_theory 3\n",
      "draw_finite_time 1\n",
      "seed 40280\n",
      "writing measures (results) to /home/wollex/Data/Science/WolfGroup/DarkMatter/Programme/data/results_computation_N=100_T=1000_draw_from_theory=3_draw_finite_time=1__const_L=1_P=1_S=1_eps=0_eta=0_J0_l=1_I_ext=1_rateWnt=1_kappa=1_alpha_0=0.01_Psi_0=0_tau_M=0.01_tau_n=0_J0=-1_drive=0_tau_I=0.005_tau_norm=1_I_alpha=1_I_beta=1.nc...\n"
     ]
    },
    {
     "data": {
      "image/png": "[encoded data removed]",
      "text/plain": [
       "<Figure size 432x288 with 1 Axes>"
      ]
     },
     "metadata": {
      "needs_background": "light"
     },
     "output_type": "display_data"
    }
   ],
   "source": [
    "options = {\n",
    "    'L': 1,\n",
    "    'P': 1,\n",
    "    'S': [1],\n",
    "\n",
    "    'alpha_0': 0.01,\n",
    "\n",
    "    'tau_I': [0.005],\n",
    "    'computation': {\n",
    "        'N': 100,\n",
    "        'T': 1000.,\n",
    "        'draw_from_theory': 3,\n",
    "        'draw_finite_time': 1,\n",
    "    }\n",
    "}\n",
    "res = darkMatter(steps=200,mode=1,options=options,cleanup=False,rerun=True,compile=False,logging=2)\n",
    "plt.figure()\n",
    "for i in range(3):\n",
    "    plt.hist(res['rates_T'][0,:,i,0],np.linspace(0,10,101),alpha=0.5)\n",
    "plt.show()"
   ]
  },
  {
   "cell_type": "code",
   "execution_count": null,
   "id": "8ac1bc9e-6f57-4856-a388-d9a8a89be49d",
   "metadata": {},
   "outputs": [],
   "source": []
  },
  {
   "cell_type": "code",
   "execution_count": null,
   "id": "b2a6067c-c316-4670-a38e-2dea322913a2",
   "metadata": {},
   "outputs": [],
   "source": []
  }
 ],
 "metadata": {
  "kernelspec": {
   "display_name": "inference",
   "language": "python",
   "name": "python3"
  },
  "language_info": {
   "codemirror_mode": {
    "name": "ipython",
    "version": 3
   },
   "file_extension": ".py",
   "mimetype": "text/x-python",
   "name": "python",
   "nbconvert_exporter": "python",
   "pygments_lexer": "ipython3",
   "version": "3.9.undefined"
  }
 },
 "nbformat": 4,
 "nbformat_minor": 5
}
