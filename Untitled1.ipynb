{
 "cells": [
  {
   "cell_type": "code",
   "execution_count": 1,
   "id": "2dfa5185-ef01-4897-bb21-f06e40fc72de",
   "metadata": {},
   "outputs": [],
   "source": [
    "%load_ext autoreload\n",
    "%autoreload 2\n",
    "\n",
    "from DM_inference_ultranest.run_inference import *"
   ]
  },
  {
   "cell_type": "code",
   "execution_count": 2,
   "id": "4ca32291-3a7e-4889-9715-66255401f207",
   "metadata": {},
   "outputs": [
    {
     "name": "stdout",
     "output_type": "stream",
     "text": [
      "column names: [['WT', '20180310A'], ['WT', '20180312A'], ['WT', '20180310B'], ['WT', '20180401'], ['LM (APLP1 KO)', '20180325 (app ko7 739)'], ['LM (APLP1 KO)', '20180325A (app ko8 740)'], ['LM (APLP1 KO)', '20180402A (app ko13 734)'], ['LM (APLP1 KO)', '20180419 (app ko14 756)'], ['cTKO', '20180309'], ['cTKO', '20180310'], ['cTKO', '20180311'], ['cTKO', '20180329'], ['cTKO', '20180329A']]\n"
     ]
    }
   ],
   "source": [
    "I = Inference()\n",
    "I.load_data('empirical',filePath='../data/BuscheLab/2P_data.xlsx',include_silent=True)"
   ]
  },
  {
   "cell_type": "code",
   "execution_count": null,
   "id": "3ea36256-2c2d-41a2-b3fd-8f4edd4b4754",
   "metadata": {},
   "outputs": [
    {
     "name": "stdout",
     "output_type": "stream",
     "text": [
      "Creating directory for new run logs_animal_0/run3\n",
      "[ultranest] Sampling 400 live points from prior ...\n"
     ]
    },
    {
     "name": "stderr",
     "output_type": "stream",
     "text": [
      "/home/wollex/anaconda3/envs/inference/lib/python3.9/site-packages/quadpy/c1/_adaptive.py:123: RuntimeWarning: invalid value encountered in true_divide\n",
      "  tau = interval_lengths / np.sum(interval_lengths)\n"
     ]
    }
   ],
   "source": [
    "result, sampler = I.run_on_data()"
   ]
  },
  {
   "cell_type": "code",
   "execution_count": 4,
   "id": "f9e52a5a-6cc6-4189-bc1a-d354b588a0b3",
   "metadata": {},
   "outputs": [],
   "source": [
    "trafo = I.setPriorTransform()\n",
    "logp = I.setLogLikelihood()"
   ]
  },
  {
   "cell_type": "code",
   "execution_count": 11,
   "id": "e4a5a7af-fcf5-450c-bbcd-c34fca5b5611",
   "metadata": {},
   "outputs": [
    {
     "name": "stdout",
     "output_type": "stream",
     "text": [
      "[ 0.86267029  3.87332645 31.84572178]\n"
     ]
    },
    {
     "ename": "TypeError",
     "evalue": "cannot unpack non-iterable numpy.float64 object",
     "output_type": "error",
     "traceback": [
      "\u001b[0;31m---------------------------------------------------------------------------\u001b[0m",
      "\u001b[0;31mTypeError\u001b[0m                                 Traceback (most recent call last)",
      "Input \u001b[0;32mIn [11]\u001b[0m, in \u001b[0;36m<cell line: 3>\u001b[0;34m()\u001b[0m\n\u001b[1;32m      1\u001b[0m p \u001b[38;5;241m=\u001b[39m trafo(np\u001b[38;5;241m.\u001b[39marray([\u001b[38;5;241m0.1\u001b[39m,\u001b[38;5;241m0.4\u001b[39m,\u001b[38;5;241m0.5\u001b[39m]))\n\u001b[1;32m      2\u001b[0m \u001b[38;5;28mprint\u001b[39m(p)\n\u001b[0;32m----> 3\u001b[0m l \u001b[38;5;241m=\u001b[39m \u001b[43mlogp\u001b[49m\u001b[43m(\u001b[49m\u001b[43mp\u001b[49m\u001b[43m)\u001b[49m\n",
      "File \u001b[0;32m~/Documents/Science/WolfGroup/DarkMatter/Programme/DM_inference_ultranest/run_inference.py:155\u001b[0m, in \u001b[0;36mInference.setLogLikelihood.<locals>.loglikelihood\u001b[0;34m(params)\u001b[0m\n\u001b[1;32m    150\u001b[0m \u001b[38;5;66;03m#if (loop):\u001b[39;00m\n\u001b[1;32m    151\u001b[0m \u001b[38;5;66;03m#    p_N_AP_arr = np.zeros((self.N_AP.shape[0],params.shape[0]))\u001b[39;00m\n\u001b[1;32m    153\u001b[0m binom \u001b[38;5;241m=\u001b[39m sp_binom(\u001b[38;5;28mself\u001b[39m\u001b[38;5;241m.\u001b[39mn,\u001b[38;5;28mself\u001b[39m\u001b[38;5;241m.\u001b[39mk_AP)\n\u001b[0;32m--> 155\u001b[0m \u001b[38;5;28;01mfor\u001b[39;00m i,(gamma,delta,nu_max) \u001b[38;5;129;01min\u001b[39;00m \u001b[38;5;28menumerate\u001b[39m(params):\n\u001b[1;32m    156\u001b[0m     \u001b[38;5;66;03m#$print('params:',g,d,n)\u001b[39;00m\n\u001b[1;32m    157\u001b[0m     fail \u001b[38;5;241m=\u001b[39m \u001b[38;5;28;01mFalse\u001b[39;00m\n\u001b[1;32m    159\u001b[0m     \u001b[38;5;28;01mif\u001b[39;00m loop:\n",
      "\u001b[0;31mTypeError\u001b[0m: cannot unpack non-iterable numpy.float64 object"
     ]
    }
   ],
   "source": [
    "p = trafo(np.array([0.1,0.4,0.5]))\n",
    "print(p)\n",
    "l = logp(p)"
   ]
  }
 ],
 "metadata": {
  "kernelspec": {
   "display_name": "inference-kernel",
   "language": "python",
   "name": "inference-kernel"
  },
  "language_info": {
   "codemirror_mode": {
    "name": "ipython",
    "version": 3
   },
   "file_extension": ".py",
   "mimetype": "text/x-python",
   "name": "python",
   "nbconvert_exporter": "python",
   "pygments_lexer": "ipython3",
   "version": "3.9.13"
  }
 },
 "nbformat": 4,
 "nbformat_minor": 5
}
